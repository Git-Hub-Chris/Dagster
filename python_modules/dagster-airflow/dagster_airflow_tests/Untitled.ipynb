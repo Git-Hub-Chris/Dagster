{
 "cells": [
  {
   "cell_type": "code",
   "execution_count": 1,
   "metadata": {},
   "outputs": [],
   "source": [
    "import datetime\n",
    "\n",
    "from dagster.core.execution import create_execution_plan\n",
    "\n",
    "from dagster.utils import load_yaml_from_path, script_relative_path\n",
    "\n",
    "from dagster_airflow import scaffold_airflow_dag\n",
    "\n",
    "from test_project.dagster_airflow_demo import define_demo_execution_pipeline\n"
   ]
  },
  {
   "cell_type": "code",
   "execution_count": 2,
   "metadata": {},
   "outputs": [],
   "source": [
    "IMAGE = 'dagster-airflow-demo'\n"
   ]
  },
  {
   "cell_type": "code",
   "execution_count": 3,
   "metadata": {},
   "outputs": [],
   "source": [
    "    pipeline = define_demo_execution_pipeline()\n",
    "    env_config = load_yaml_from_path(script_relative_path('test_project/env.yml'))\n"
   ]
  },
  {
   "cell_type": "code",
   "execution_count": 4,
   "metadata": {},
   "outputs": [
    {
     "data": {
      "text/plain": [
       "[ExecutionStep(key='multiply_the_word.word.input_thunk', step_inputs=[], step_input_dict={}, step_outputs=[StepOutput(name='input_thunk_output', runtime_type=<dagster.core.types.runtime.String object at 0x10e343080>)], step_output_dict={'input_thunk_output': StepOutput(name='input_thunk_output', runtime_type=<dagster.core.types.runtime.String object at 0x10e343080>)}, compute_fn=<function _create_input_thunk_execution_step.<locals>._fn at 0x10e242d90>, kind=<StepKind.INPUT_THUNK: 'INPUT_THUNK'>, solid=<dagster.core.definitions.dependency.Solid object at 0x10e4d3860>, tags={'step_key': 'multiply_the_word.word.input_thunk', 'pipeline': 'demo_pipeline', 'solid': 'multiply_the_word', 'solid_definition': 'multiply_the_word', 'input': 'word'}),\n",
       " ExecutionStep(key='multiply_the_word.transform', step_inputs=[StepInput(name='word', runtime_type=<dagster.core.types.runtime.String object at 0x10e343080>, prev_output_handle=StepOutputHandle(step=\"multiply_the_word.word.input_thunk\", output_name=\"input_thunk_output\"))], step_input_dict={'word': StepInput(name='word', runtime_type=<dagster.core.types.runtime.String object at 0x10e343080>, prev_output_handle=StepOutputHandle(step=\"multiply_the_word.word.input_thunk\", output_name=\"input_thunk_output\"))}, step_outputs=[StepOutput(name='result', runtime_type=<dagster.core.types.runtime.Any object at 0x10e336dd8>)], step_output_dict={'result': StepOutput(name='result', runtime_type=<dagster.core.types.runtime.Any object at 0x10e336dd8>)}, compute_fn=<function create_transform_step.<locals>.<lambda> at 0x10e61c620>, kind=<StepKind.TRANSFORM: 'TRANSFORM'>, solid=<dagster.core.definitions.dependency.Solid object at 0x10e4d3860>, tags={'step_key': 'multiply_the_word.transform', 'pipeline': 'demo_pipeline', 'solid': 'multiply_the_word', 'solid_definition': 'multiply_the_word'}),\n",
       " ExecutionStep(key='count_letters.transform', step_inputs=[StepInput(name='word', runtime_type=<dagster.core.types.runtime.Any object at 0x10e336dd8>, prev_output_handle=StepOutputHandle(step=\"multiply_the_word.transform\", output_name=\"result\"))], step_input_dict={'word': StepInput(name='word', runtime_type=<dagster.core.types.runtime.Any object at 0x10e336dd8>, prev_output_handle=StepOutputHandle(step=\"multiply_the_word.transform\", output_name=\"result\"))}, step_outputs=[StepOutput(name='result', runtime_type=<dagster.core.types.runtime.Any object at 0x10e336dd8>)], step_output_dict={'result': StepOutput(name='result', runtime_type=<dagster.core.types.runtime.Any object at 0x10e336dd8>)}, compute_fn=<function create_transform_step.<locals>.<lambda> at 0x10e61c840>, kind=<StepKind.TRANSFORM: 'TRANSFORM'>, solid=<dagster.core.definitions.dependency.Solid object at 0x10e4d3898>, tags={'step_key': 'count_letters.transform', 'pipeline': 'demo_pipeline', 'solid': 'count_letters', 'solid_definition': 'count_letters'})]"
      ]
     },
     "execution_count": 4,
     "metadata": {},
     "output_type": "execute_result"
    }
   ],
   "source": [
    "create_execution_plan(pipeline, env_config).topological_steps()\n"
   ]
  },
  {
   "cell_type": "code",
   "execution_count": 5,
   "metadata": {},
   "outputs": [],
   "source": [
    "import graphql"
   ]
  },
  {
   "cell_type": "code",
   "execution_count": 6,
   "metadata": {},
   "outputs": [],
   "source": [
    "step = create_execution_plan(pipeline, env_config).topological_steps()[0]"
   ]
  },
  {
   "cell_type": "code",
   "execution_count": 7,
   "metadata": {},
   "outputs": [
    {
     "data": {
      "text/plain": [
       "[StepOutput(name='input_thunk_output', runtime_type=<dagster.core.types.runtime.String object at 0x10e343080>)]"
      ]
     },
     "execution_count": 7,
     "metadata": {},
     "output_type": "execute_result"
    }
   ],
   "source": [
    "step.step_outputs"
   ]
  },
  {
   "cell_type": "code",
   "execution_count": 8,
   "metadata": {},
   "outputs": [],
   "source": [
    "step = create_execution_plan(pipeline, env_config).topological_steps()[1]"
   ]
  },
  {
   "cell_type": "code",
   "execution_count": 9,
   "metadata": {},
   "outputs": [
    {
     "ename": "SyntaxError",
     "evalue": "invalid syntax (<ipython-input-9-ca7f2b1c4913>, line 1)",
     "output_type": "error",
     "traceback": [
      "\u001b[0;36m  File \u001b[0;32m\"<ipython-input-9-ca7f2b1c4913>\"\u001b[0;36m, line \u001b[0;32m1\u001b[0m\n\u001b[0;31m    step.step_inputs[0]_output\u001b[0m\n\u001b[0m                             ^\u001b[0m\n\u001b[0;31mSyntaxError\u001b[0m\u001b[0;31m:\u001b[0m invalid syntax\n"
     ]
    }
   ],
   "source": [
    "step.step_inputs[0]_output"
   ]
  },
  {
   "cell_type": "code",
   "execution_count": 10,
   "metadata": {},
   "outputs": [],
   "source": [
    "from dagster_airflow.utils import IndentingBlockPrinter\n"
   ]
  },
  {
   "cell_type": "code",
   "execution_count": 11,
   "metadata": {},
   "outputs": [],
   "source": [
    "def _normalize_key(key):\n",
    "    '''We need to make sure task ids play nicely with Airflow.'''\n",
    "    return key.replace('_', '__').replace('.', '_')\n"
   ]
  },
  {
   "cell_type": "code",
   "execution_count": 15,
   "metadata": {},
   "outputs": [],
   "source": [
    "def _key_for_marshalled_result(step_key, result_name):\n",
    "    return _normalize_key(step_key) + '___' + _normalize_key(result_name) + '.pickle'\n",
    "\n",
    "\n",
    "def _make_marshalled_inputs_for_step(step):\n",
    "    if not step.step_inputs:\n",
    "        return '[]'\n",
    "\n",
    "    printer = IndentingBlockPrinter(indent_level=2)\n",
    "    printer.line('[')\n",
    "    with printer.with_indent():\n",
    "        for step_input in step.step_inputs:\n",
    "            printer.line('{')\n",
    "            with printer.with_indent():\n",
    "                printer.line('inputName: \"{input_name}\",'.format(input_name=step_input.name))\n",
    "                printer.line(\n",
    "                    'key: \"{key}\"'.format(\n",
    "                        key=_key_for_marshalled_result(\n",
    "                            step_input.prev_output_handle.step.key,\n",
    "                            step_input.prev_output_handle.output_name,\n",
    "                        )\n",
    "                    )\n",
    "                )\n",
    "            printer.line('}')\n",
    "    printer.line(']')\n",
    "\n",
    "    return printer.read()\n",
    "\n",
    "\n",
    "def _make_marshalled_outputs_for_step(step):\n",
    "    if not step.step_outputs:\n",
    "        return '[]'\n",
    "\n",
    "    printer = IndentingBlockPrinter(indent_level=2)\n",
    "    printer.line('[')\n",
    "    with printer.with_indent():\n",
    "        for step_output in step.step_outputs:\n",
    "            printer.line('{')\n",
    "            with printer.with_indent():\n",
    "                printer.line('outputName: \"{output_name}\",'.format(output_name=step_output.name))\n",
    "                printer.line(\n",
    "                    'key: \"{key}\"'.format(\n",
    "                        key=_key_for_marshalled_result(step.key, step_output.name)\n",
    "                    )\n",
    "                )\n",
    "            printer.line('}')\n",
    "    printer.line(']')\n",
    "\n",
    "    return printer.read()"
   ]
  },
  {
   "cell_type": "code",
   "execution_count": 16,
   "metadata": {},
   "outputs": [
    {
     "data": {
      "text/plain": [
       "'[\\n  {\\n    inputName: \"word\",\\n    key: \"multiply__the__word_word_input__thunk___input__thunk__output.pickle\"\\n  }\\n]\\n'"
      ]
     },
     "execution_count": 16,
     "metadata": {},
     "output_type": "execute_result"
    }
   ],
   "source": [
    "_make_marshalled_inputs_for_step(step)"
   ]
  },
  {
   "cell_type": "code",
   "execution_count": 17,
   "metadata": {},
   "outputs": [
    {
     "data": {
      "text/plain": [
       "'[\\n  {\\n    outputName: \"result\",\\n    key: \"multiply__the__word_transform___result.pickle\"\\n  }\\n]\\n'"
      ]
     },
     "execution_count": 17,
     "metadata": {},
     "output_type": "execute_result"
    }
   ],
   "source": [
    "_make_marshalled_outputs_for_step(step)"
   ]
  },
  {
   "cell_type": "code",
   "execution_count": 23,
   "metadata": {},
   "outputs": [
    {
     "data": {
      "text/plain": [
       "ExecutionStep(key='multiply_the_word.word.input_thunk', step_inputs=[], step_input_dict={}, step_outputs=[StepOutput(name='input_thunk_output', runtime_type=<dagster.core.types.runtime.String object at 0x10ab13a90>)], step_output_dict={'input_thunk_output': StepOutput(name='input_thunk_output', runtime_type=<dagster.core.types.runtime.String object at 0x10ab13a90>)}, compute_fn=<function _create_input_thunk_execution_step.<locals>._fn at 0x10ad24ea0>, kind=<StepKind.INPUT_THUNK: 'INPUT_THUNK'>, solid=<dagster.core.definitions.dependency.Solid object at 0x10ad2c780>, tags={'step_key': 'multiply_the_word.word.input_thunk', 'pipeline': 'demo_pipeline', 'solid': 'multiply_the_word', 'solid_definition': 'multiply_the_word', 'input': 'word'})"
      ]
     },
     "execution_count": 23,
     "metadata": {},
     "output_type": "execute_result"
    }
   ],
   "source": [
    "step"
   ]
  },
  {
   "cell_type": "code",
   "execution_count": 18,
   "metadata": {},
   "outputs": [],
   "source": [
    "CONFIG = \\\n",
    "    {'context': {'default': {'config': {'log_level': 'DEBUG'}}},\n",
    "     'solids': {'multiply_the_word': {'config': {'factor': 2},\n",
    "                                      'inputs': {'word': {'value': 'bar'}}}}}\n"
   ]
  },
  {
   "cell_type": "code",
   "execution_count": 23,
   "metadata": {},
   "outputs": [
    {
     "name": "stdout",
     "output_type": "stream",
     "text": [
      "-q '\n",
      "            mutation {\n",
      "              startSubplanExecution(\n",
      "                config: {'context': {'default': {'config': {'log_level': 'DEBUG'}}}, 'solids': {'multiply_the_word': {'config': {'factor': 2}, 'inputs': {'word': {'value': 'bar'}}}}},\n",
      "                executionMetadata: {\n",
      "                  runId: \"testRun\"\n",
      "                },\n",
      "                pipelineName: \"demo_pipeline\",\n",
      "                stepExecutions: [\n",
      "                  {\n",
      "                    stepKey: \"multiply_the_word.word.input_thunk\"\n",
      "                  }\n",
      "                ],\n",
      "                marshalledInputs: \n",
      "                [\n",
      "                ],\n",
      "                marshalledOutputs: \n",
      "                [\n",
      "                  {\n",
      "                    outputName: \"input_thunk_output\",\n",
      "                    key: \"multiply__the__word_word_input__thunk___input__thunk__output.pickle\"\n",
      "                  }\n",
      "                ],\n",
      "              ) {\n",
      "                __typename\n",
      "              }\n",
      "            '\n",
      "        \n"
     ]
    }
   ],
   "source": [
    "print(\n",
    "'''-q '\n",
    "            mutation {{\n",
    "              startSubplanExecution(\n",
    "                config: {config},\n",
    "                executionMetadata: {{\n",
    "                  runId: \"testRun\"\n",
    "                }},\n",
    "                pipelineName: \"demo_pipeline\",\n",
    "                stepExecutions: [\n",
    "                  {{\n",
    "                    stepKey: \"multiply_the_word.word.input_thunk\"\n",
    "                  }}\n",
    "                ],\n",
    "                marshalledInputs: \n",
    "                [\n",
    "                ],\n",
    "                marshalledOutputs: \n",
    "                [\n",
    "                  {{\n",
    "                    outputName: \"input_thunk_output\",\n",
    "                    key: \"multiply__the__word_word_input__thunk___input__thunk__output.pickle\"\n",
    "                  }}\n",
    "                ],\n",
    "              ) {{\n",
    "                __typename\n",
    "              }}\n",
    "            '\n",
    "        '''.format(config=CONFIG)\n",
    ")"
   ]
  },
  {
   "cell_type": "code",
   "execution_count": 24,
   "metadata": {},
   "outputs": [
    {
     "data": {
      "text/plain": [
       "['BREAK',\n",
       " 'DEFAULT_DEPRECATION_REASON',\n",
       " 'DirectiveLocation',\n",
       " 'GraphQLArgument',\n",
       " 'GraphQLBackend',\n",
       " 'GraphQLBoolean',\n",
       " 'GraphQLCachedBackend',\n",
       " 'GraphQLCoreBackend',\n",
       " 'GraphQLDeciderBackend',\n",
       " 'GraphQLDeprecatedDirective',\n",
       " 'GraphQLDirective',\n",
       " 'GraphQLDocument',\n",
       " 'GraphQLEnumType',\n",
       " 'GraphQLEnumValue',\n",
       " 'GraphQLError',\n",
       " 'GraphQLField',\n",
       " 'GraphQLFloat',\n",
       " 'GraphQLID',\n",
       " 'GraphQLIncludeDirective',\n",
       " 'GraphQLInputObjectField',\n",
       " 'GraphQLInputObjectType',\n",
       " 'GraphQLInt',\n",
       " 'GraphQLInterfaceType',\n",
       " 'GraphQLList',\n",
       " 'GraphQLNonNull',\n",
       " 'GraphQLObjectType',\n",
       " 'GraphQLScalarType',\n",
       " 'GraphQLSchema',\n",
       " 'GraphQLSkipDirective',\n",
       " 'GraphQLString',\n",
       " 'GraphQLUnionType',\n",
       " 'MiddlewareManager',\n",
       " 'ParallelVisitor',\n",
       " 'ResolveInfo',\n",
       " 'SchemaMetaFieldDef',\n",
       " 'Source',\n",
       " 'TypeInfo',\n",
       " 'TypeInfoVisitor',\n",
       " 'TypeKind',\n",
       " 'TypeMetaFieldDef',\n",
       " 'TypeNameMetaFieldDef',\n",
       " 'Undefined',\n",
       " 'VERSION',\n",
       " '__Directive',\n",
       " '__DirectiveLocation',\n",
       " '__EnumValue',\n",
       " '__Field',\n",
       " '__InputValue',\n",
       " '__Schema',\n",
       " '__Type',\n",
       " '__TypeKind',\n",
       " '__all__',\n",
       " '__builtins__',\n",
       " '__cached__',\n",
       " '__doc__',\n",
       " '__file__',\n",
       " '__loader__',\n",
       " '__name__',\n",
       " '__package__',\n",
       " '__path__',\n",
       " '__spec__',\n",
       " '__version__',\n",
       " 'assert_valid_name',\n",
       " 'ast_from_value',\n",
       " 'backend',\n",
       " 'build_ast_schema',\n",
       " 'build_client_schema',\n",
       " 'concat_ast',\n",
       " 'do_types_overlap',\n",
       " 'error',\n",
       " 'execute',\n",
       " 'execution',\n",
       " 'extend_schema',\n",
       " 'format_error',\n",
       " 'get_default_backend',\n",
       " 'get_location',\n",
       " 'get_named_type',\n",
       " 'get_nullable_type',\n",
       " 'get_operation_ast',\n",
       " 'get_version',\n",
       " 'graphql',\n",
       " 'introspection_query',\n",
       " 'is_abstract_type',\n",
       " 'is_composite_type',\n",
       " 'is_equal_type',\n",
       " 'is_input_type',\n",
       " 'is_leaf_type',\n",
       " 'is_output_type',\n",
       " 'is_type',\n",
       " 'is_type_sub_type_of',\n",
       " 'is_valid_literal_value',\n",
       " 'is_valid_value',\n",
       " 'language',\n",
       " 'middlewares',\n",
       " 'parse',\n",
       " 'parse_value',\n",
       " 'print_ast',\n",
       " 'print_schema',\n",
       " 'pyutils',\n",
       " 'set_default_backend',\n",
       " 'specified_directives',\n",
       " 'specified_rules',\n",
       " 'subscribe',\n",
       " 'type',\n",
       " 'type_from_ast',\n",
       " 'utils',\n",
       " 'validate',\n",
       " 'validation',\n",
       " 'value_from_ast',\n",
       " 'visit']"
      ]
     },
     "execution_count": 24,
     "metadata": {},
     "output_type": "execute_result"
    }
   ],
   "source": [
    "dir(graphql)"
   ]
  },
  {
   "cell_type": "code",
   "execution_count": 26,
   "metadata": {},
   "outputs": [
    {
     "ename": "GraphQLSyntaxError",
     "evalue": "Syntax Error GraphQL (1:2) Expected Name, found String \"context\"\n\n1: {\"context\": {\"default\": {\"config\": {\"log_level\": \"DEBUG\"}}}, \"solids\": {\"multiply_the_word\": {\"config\": {\"factor\": 2}, \"inputs\": {\"word\": {\"value\": \"bar\"}}}}}\n    ^\n",
     "output_type": "error",
     "traceback": [
      "\u001b[0;31m---------------------------------------------------------------------------\u001b[0m",
      "\u001b[0;31mGraphQLSyntaxError\u001b[0m                        Traceback (most recent call last)",
      "\u001b[0;32m<ipython-input-26-4b80b796ce54>\u001b[0m in \u001b[0;36m<module>\u001b[0;34m\u001b[0m\n\u001b[0;32m----> 1\u001b[0;31m \u001b[0mgraphql\u001b[0m\u001b[0;34m.\u001b[0m\u001b[0mparse_value\u001b[0m\u001b[0;34m(\u001b[0m\u001b[0;34m'{\"context\": {\"default\": {\"config\": {\"log_level\": \"DEBUG\"}}}, \"solids\": {\"multiply_the_word\": {\"config\": {\"factor\": 2}, \"inputs\": {\"word\": {\"value\": \"bar\"}}}}}'\u001b[0m\u001b[0;34m)\u001b[0m\u001b[0;34m\u001b[0m\u001b[0m\n\u001b[0m",
      "\u001b[0;32m~/.virtualenvs/dagster/lib/python3.6/site-packages/graphql/language/parser.py\u001b[0m in \u001b[0;36mparse_value\u001b[0;34m(source, **kwargs)\u001b[0m\n\u001b[1;32m     76\u001b[0m \u001b[0;34m\u001b[0m\u001b[0m\n\u001b[1;32m     77\u001b[0m     \u001b[0mparser\u001b[0m \u001b[0;34m=\u001b[0m \u001b[0mParser\u001b[0m\u001b[0;34m(\u001b[0m\u001b[0msource_obj\u001b[0m\u001b[0;34m,\u001b[0m \u001b[0moptions\u001b[0m\u001b[0;34m)\u001b[0m\u001b[0;34m\u001b[0m\u001b[0m\n\u001b[0;32m---> 78\u001b[0;31m     \u001b[0;32mreturn\u001b[0m \u001b[0mparse_value_literal\u001b[0m\u001b[0;34m(\u001b[0m\u001b[0mparser\u001b[0m\u001b[0;34m,\u001b[0m \u001b[0;32mFalse\u001b[0m\u001b[0;34m)\u001b[0m\u001b[0;34m\u001b[0m\u001b[0m\n\u001b[0m\u001b[1;32m     79\u001b[0m \u001b[0;34m\u001b[0m\u001b[0m\n\u001b[1;32m     80\u001b[0m \u001b[0;34m\u001b[0m\u001b[0m\n",
      "\u001b[0;32m~/.virtualenvs/dagster/lib/python3.6/site-packages/graphql/language/parser.py\u001b[0m in \u001b[0;36mparse_value_literal\u001b[0;34m(parser, is_const)\u001b[0m\n\u001b[1;32m    475\u001b[0m \u001b[0;34m\u001b[0m\u001b[0m\n\u001b[1;32m    476\u001b[0m     \u001b[0;32melif\u001b[0m \u001b[0mtoken\u001b[0m\u001b[0;34m.\u001b[0m\u001b[0mkind\u001b[0m \u001b[0;34m==\u001b[0m \u001b[0mTokenKind\u001b[0m\u001b[0;34m.\u001b[0m\u001b[0mBRACE_L\u001b[0m\u001b[0;34m:\u001b[0m\u001b[0;34m\u001b[0m\u001b[0m\n\u001b[0;32m--> 477\u001b[0;31m         \u001b[0;32mreturn\u001b[0m \u001b[0mparse_object\u001b[0m\u001b[0;34m(\u001b[0m\u001b[0mparser\u001b[0m\u001b[0;34m,\u001b[0m \u001b[0mis_const\u001b[0m\u001b[0;34m)\u001b[0m\u001b[0;34m\u001b[0m\u001b[0m\n\u001b[0m\u001b[1;32m    478\u001b[0m \u001b[0;34m\u001b[0m\u001b[0m\n\u001b[1;32m    479\u001b[0m     \u001b[0;32melif\u001b[0m \u001b[0mtoken\u001b[0m\u001b[0;34m.\u001b[0m\u001b[0mkind\u001b[0m \u001b[0;34m==\u001b[0m \u001b[0mTokenKind\u001b[0m\u001b[0;34m.\u001b[0m\u001b[0mINT\u001b[0m\u001b[0;34m:\u001b[0m\u001b[0;34m\u001b[0m\u001b[0m\n",
      "\u001b[0;32m~/.virtualenvs/dagster/lib/python3.6/site-packages/graphql/language/parser.py\u001b[0m in \u001b[0;36mparse_object\u001b[0;34m(parser, is_const)\u001b[0m\n\u001b[1;32m    544\u001b[0m \u001b[0;34m\u001b[0m\u001b[0m\n\u001b[1;32m    545\u001b[0m     \u001b[0;32mwhile\u001b[0m \u001b[0;32mnot\u001b[0m \u001b[0mskip\u001b[0m\u001b[0;34m(\u001b[0m\u001b[0mparser\u001b[0m\u001b[0;34m,\u001b[0m \u001b[0mTokenKind\u001b[0m\u001b[0;34m.\u001b[0m\u001b[0mBRACE_R\u001b[0m\u001b[0;34m)\u001b[0m\u001b[0;34m:\u001b[0m\u001b[0;34m\u001b[0m\u001b[0m\n\u001b[0;32m--> 546\u001b[0;31m         \u001b[0mfields\u001b[0m\u001b[0;34m.\u001b[0m\u001b[0mappend\u001b[0m\u001b[0;34m(\u001b[0m\u001b[0mparse_object_field\u001b[0m\u001b[0;34m(\u001b[0m\u001b[0mparser\u001b[0m\u001b[0;34m,\u001b[0m \u001b[0mis_const\u001b[0m\u001b[0;34m)\u001b[0m\u001b[0;34m)\u001b[0m\u001b[0;34m\u001b[0m\u001b[0m\n\u001b[0m\u001b[1;32m    547\u001b[0m \u001b[0;34m\u001b[0m\u001b[0m\n\u001b[1;32m    548\u001b[0m     \u001b[0;32mreturn\u001b[0m \u001b[0mast\u001b[0m\u001b[0;34m.\u001b[0m\u001b[0mObjectValue\u001b[0m\u001b[0;34m(\u001b[0m\u001b[0mfields\u001b[0m\u001b[0;34m=\u001b[0m\u001b[0mfields\u001b[0m\u001b[0;34m,\u001b[0m \u001b[0mloc\u001b[0m\u001b[0;34m=\u001b[0m\u001b[0mloc\u001b[0m\u001b[0;34m(\u001b[0m\u001b[0mparser\u001b[0m\u001b[0;34m,\u001b[0m \u001b[0mstart\u001b[0m\u001b[0;34m)\u001b[0m\u001b[0;34m)\u001b[0m\u001b[0;34m\u001b[0m\u001b[0m\n",
      "\u001b[0;32m~/.virtualenvs/dagster/lib/python3.6/site-packages/graphql/language/parser.py\u001b[0m in \u001b[0;36mparse_object_field\u001b[0;34m(parser, is_const)\u001b[0m\n\u001b[1;32m    553\u001b[0m     \u001b[0mstart\u001b[0m \u001b[0;34m=\u001b[0m \u001b[0mparser\u001b[0m\u001b[0;34m.\u001b[0m\u001b[0mtoken\u001b[0m\u001b[0;34m.\u001b[0m\u001b[0mstart\u001b[0m\u001b[0;34m\u001b[0m\u001b[0m\n\u001b[1;32m    554\u001b[0m     return ast.ObjectField(\n\u001b[0;32m--> 555\u001b[0;31m         \u001b[0mname\u001b[0m\u001b[0;34m=\u001b[0m\u001b[0mparse_name\u001b[0m\u001b[0;34m(\u001b[0m\u001b[0mparser\u001b[0m\u001b[0;34m)\u001b[0m\u001b[0;34m,\u001b[0m\u001b[0;34m\u001b[0m\u001b[0m\n\u001b[0m\u001b[1;32m    556\u001b[0m         \u001b[0mvalue\u001b[0m\u001b[0;34m=\u001b[0m\u001b[0mexpect\u001b[0m\u001b[0;34m(\u001b[0m\u001b[0mparser\u001b[0m\u001b[0;34m,\u001b[0m \u001b[0mTokenKind\u001b[0m\u001b[0;34m.\u001b[0m\u001b[0mCOLON\u001b[0m\u001b[0;34m)\u001b[0m \u001b[0;32mand\u001b[0m \u001b[0mparse_value_literal\u001b[0m\u001b[0;34m(\u001b[0m\u001b[0mparser\u001b[0m\u001b[0;34m,\u001b[0m \u001b[0mis_const\u001b[0m\u001b[0;34m)\u001b[0m\u001b[0;34m,\u001b[0m\u001b[0;34m\u001b[0m\u001b[0m\n\u001b[1;32m    557\u001b[0m         \u001b[0mloc\u001b[0m\u001b[0;34m=\u001b[0m\u001b[0mloc\u001b[0m\u001b[0;34m(\u001b[0m\u001b[0mparser\u001b[0m\u001b[0;34m,\u001b[0m \u001b[0mstart\u001b[0m\u001b[0;34m)\u001b[0m\u001b[0;34m,\u001b[0m\u001b[0;34m\u001b[0m\u001b[0m\n",
      "\u001b[0;32m~/.virtualenvs/dagster/lib/python3.6/site-packages/graphql/language/parser.py\u001b[0m in \u001b[0;36mparse_name\u001b[0;34m(parser)\u001b[0m\n\u001b[1;32m    230\u001b[0m     \u001b[0;31m# type: (Parser) -> Name\u001b[0m\u001b[0;34m\u001b[0m\u001b[0;34m\u001b[0m\u001b[0m\n\u001b[1;32m    231\u001b[0m     \u001b[0;34m\"\"\"Converts a name lex token into a name parse node.\"\"\"\u001b[0m\u001b[0;34m\u001b[0m\u001b[0m\n\u001b[0;32m--> 232\u001b[0;31m     \u001b[0mtoken\u001b[0m \u001b[0;34m=\u001b[0m \u001b[0mexpect\u001b[0m\u001b[0;34m(\u001b[0m\u001b[0mparser\u001b[0m\u001b[0;34m,\u001b[0m \u001b[0mTokenKind\u001b[0m\u001b[0;34m.\u001b[0m\u001b[0mNAME\u001b[0m\u001b[0;34m)\u001b[0m\u001b[0;34m\u001b[0m\u001b[0m\n\u001b[0m\u001b[1;32m    233\u001b[0m     \u001b[0;32mreturn\u001b[0m \u001b[0mast\u001b[0m\u001b[0;34m.\u001b[0m\u001b[0mName\u001b[0m\u001b[0;34m(\u001b[0m\u001b[0mvalue\u001b[0m\u001b[0;34m=\u001b[0m\u001b[0mtoken\u001b[0m\u001b[0;34m.\u001b[0m\u001b[0mvalue\u001b[0m\u001b[0;34m,\u001b[0m \u001b[0mloc\u001b[0m\u001b[0;34m=\u001b[0m\u001b[0mloc\u001b[0m\u001b[0;34m(\u001b[0m\u001b[0mparser\u001b[0m\u001b[0;34m,\u001b[0m \u001b[0mtoken\u001b[0m\u001b[0;34m.\u001b[0m\u001b[0mstart\u001b[0m\u001b[0;34m)\u001b[0m\u001b[0;34m)\u001b[0m  \u001b[0;31m# type: ignore\u001b[0m\u001b[0;34m\u001b[0m\u001b[0m\n\u001b[1;32m    234\u001b[0m \u001b[0;34m\u001b[0m\u001b[0m\n",
      "\u001b[0;32m~/.virtualenvs/dagster/lib/python3.6/site-packages/graphql/language/parser.py\u001b[0m in \u001b[0;36mexpect\u001b[0;34m(parser, kind)\u001b[0m\n\u001b[1;32m    167\u001b[0m         \u001b[0mtoken\u001b[0m\u001b[0;34m.\u001b[0m\u001b[0mstart\u001b[0m\u001b[0;34m,\u001b[0m\u001b[0;34m\u001b[0m\u001b[0m\n\u001b[1;32m    168\u001b[0m         u\"Expected {}, found {}\".format(\n\u001b[0;32m--> 169\u001b[0;31m             \u001b[0mget_token_kind_desc\u001b[0m\u001b[0;34m(\u001b[0m\u001b[0mkind\u001b[0m\u001b[0;34m)\u001b[0m\u001b[0;34m,\u001b[0m \u001b[0mget_token_desc\u001b[0m\u001b[0;34m(\u001b[0m\u001b[0mtoken\u001b[0m\u001b[0;34m)\u001b[0m\u001b[0;34m\u001b[0m\u001b[0m\n\u001b[0m\u001b[1;32m    170\u001b[0m         ),\n\u001b[1;32m    171\u001b[0m     )\n",
      "\u001b[0;31mGraphQLSyntaxError\u001b[0m: Syntax Error GraphQL (1:2) Expected Name, found String \"context\"\n\n1: {\"context\": {\"default\": {\"config\": {\"log_level\": \"DEBUG\"}}}, \"solids\": {\"multiply_the_word\": {\"config\": {\"factor\": 2}, \"inputs\": {\"word\": {\"value\": \"bar\"}}}}}\n    ^\n"
     ]
    }
   ],
   "source": [
    "graphql.parse_value('{\"context\": {\"default\": {\"config\": {\"log_level\": \"DEBUG\"}}}, \"solids\": {\"multiply_the_word\": {\"config\": {\"factor\": 2}, \"inputs\": {\"word\": {\"value\": \"bar\"}}}}}')"
   ]
  },
  {
   "cell_type": "code",
   "execution_count": null,
   "metadata": {},
   "outputs": [],
   "source": []
  }
 ],
 "metadata": {
  "kernelspec": {
   "display_name": "Python 3",
   "language": "python",
   "name": "python3"
  },
  "language_info": {
   "codemirror_mode": {
    "name": "ipython",
    "version": 3
   },
   "file_extension": ".py",
   "mimetype": "text/x-python",
   "name": "python",
   "nbconvert_exporter": "python",
   "pygments_lexer": "ipython3",
   "version": "3.6.5"
  }
 },
 "nbformat": 4,
 "nbformat_minor": 2
}
