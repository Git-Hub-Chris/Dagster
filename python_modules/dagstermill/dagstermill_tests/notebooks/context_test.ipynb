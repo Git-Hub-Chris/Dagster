{
 "cells": [
  {
   "cell_type": "code",
   "execution_count": 59,
   "metadata": {},
   "outputs": [
    {
     "name": "stdout",
     "output_type": "stream",
     "text": [
      "The autoreload extension is already loaded. To reload it, use:\n",
      "  %reload_ext autoreload\n"
     ]
    },
    {
     "ename": "NameError",
     "evalue": "name 'WrappingListType' is not defined",
     "output_type": "error",
     "traceback": [
      "\u001b[0;31m---------------------------------------------------------------------------\u001b[0m",
      "\u001b[0;31mNameError\u001b[0m                                 Traceback (most recent call last)",
      "\u001b[0;32m<ipython-input-59-1f11819064ea>\u001b[0m in \u001b[0;36m<module>\u001b[0;34m\u001b[0m\n\u001b[1;32m      5\u001b[0m \u001b[0;32mimport\u001b[0m \u001b[0mlogging\u001b[0m\u001b[0;34m\u001b[0m\u001b[0m\n\u001b[1;32m      6\u001b[0m \u001b[0;32mfrom\u001b[0m \u001b[0mdagstermill\u001b[0m\u001b[0;34m.\u001b[0m\u001b[0mexamples\u001b[0m\u001b[0;34m.\u001b[0m\u001b[0mrepository\u001b[0m \u001b[0;32mimport\u001b[0m \u001b[0mdefine_example_repository\u001b[0m\u001b[0;34m\u001b[0m\u001b[0m\n\u001b[0;32m----> 7\u001b[0;31m \u001b[0mdm\u001b[0m\u001b[0;34m.\u001b[0m\u001b[0mdeclare_as_solid\u001b[0m\u001b[0;34m(\u001b[0m\u001b[0mdefine_example_repository\u001b[0m\u001b[0;34m(\u001b[0m\u001b[0;34m)\u001b[0m\u001b[0;34m,\u001b[0m \u001b[0;34m'add_two_numbers'\u001b[0m\u001b[0;34m)\u001b[0m\u001b[0;34m\u001b[0m\u001b[0m\n\u001b[0m",
      "\u001b[0;32m~/Documents/dagster/python_modules/dagstermill/dagstermill/__init__.py\u001b[0m in \u001b[0;36mdeclare_as_solid\u001b[0;34m(pipeline_def, solid_def_name)\u001b[0m\n\u001b[1;32m    143\u001b[0m \u001b[0;34m\u001b[0m\u001b[0m\n\u001b[1;32m    144\u001b[0m \u001b[0;32mdef\u001b[0m \u001b[0mdeclare_as_solid\u001b[0m\u001b[0;34m(\u001b[0m\u001b[0mpipeline_def\u001b[0m\u001b[0;34m,\u001b[0m \u001b[0msolid_def_name\u001b[0m\u001b[0;34m)\u001b[0m\u001b[0;34m:\u001b[0m\u001b[0;34m\u001b[0m\u001b[0m\n\u001b[0;32m--> 145\u001b[0;31m     \u001b[0;32mreturn\u001b[0m \u001b[0mMANAGER_FOR_NOTEBOOK_INSTANCE\u001b[0m\u001b[0;34m.\u001b[0m\u001b[0mdeclare_as_solid\u001b[0m\u001b[0;34m(\u001b[0m\u001b[0mpipeline_def\u001b[0m\u001b[0;34m,\u001b[0m \u001b[0msolid_def_name\u001b[0m\u001b[0;34m)\u001b[0m\u001b[0;34m\u001b[0m\u001b[0m\n\u001b[0m\u001b[1;32m    146\u001b[0m \u001b[0;34m\u001b[0m\u001b[0m\n\u001b[1;32m    147\u001b[0m \u001b[0;34m\u001b[0m\u001b[0m\n",
      "\u001b[0;32m~/Documents/dagster/python_modules/dagstermill/dagstermill/__init__.py\u001b[0m in \u001b[0;36mdeclare_as_solid\u001b[0;34m(self, repository_def, solid_def_name)\u001b[0m\n\u001b[1;32m     63\u001b[0m     \u001b[0;32mdef\u001b[0m \u001b[0mdeclare_as_solid\u001b[0m\u001b[0;34m(\u001b[0m\u001b[0mself\u001b[0m\u001b[0;34m,\u001b[0m \u001b[0mrepository_def\u001b[0m\u001b[0;34m,\u001b[0m \u001b[0msolid_def_name\u001b[0m\u001b[0;34m)\u001b[0m\u001b[0;34m:\u001b[0m\u001b[0;34m\u001b[0m\u001b[0m\n\u001b[1;32m     64\u001b[0m         \u001b[0mself\u001b[0m\u001b[0;34m.\u001b[0m\u001b[0mrepository_def\u001b[0m \u001b[0;34m=\u001b[0m \u001b[0mrepository_def\u001b[0m\u001b[0;34m\u001b[0m\u001b[0m\n\u001b[0;32m---> 65\u001b[0;31m         \u001b[0mself\u001b[0m\u001b[0;34m.\u001b[0m\u001b[0msolid_def\u001b[0m \u001b[0;34m=\u001b[0m \u001b[0mself\u001b[0m\u001b[0;34m.\u001b[0m\u001b[0mrepository_def\u001b[0m\u001b[0;34m.\u001b[0m\u001b[0msolid_def_named\u001b[0m\u001b[0;34m(\u001b[0m\u001b[0msolid_def_name\u001b[0m\u001b[0;34m)\u001b[0m\u001b[0;34m\u001b[0m\u001b[0m\n\u001b[0m\u001b[1;32m     66\u001b[0m         \u001b[0mself\u001b[0m\u001b[0;34m.\u001b[0m\u001b[0msolid_def_name\u001b[0m \u001b[0;34m=\u001b[0m \u001b[0mcheck\u001b[0m\u001b[0;34m.\u001b[0m\u001b[0mstr_param\u001b[0m\u001b[0;34m(\u001b[0m\u001b[0msolid_def_name\u001b[0m\u001b[0;34m,\u001b[0m \u001b[0;34m'solid_def_name'\u001b[0m\u001b[0;34m)\u001b[0m\u001b[0;34m\u001b[0m\u001b[0m\n\u001b[1;32m     67\u001b[0m \u001b[0;34m\u001b[0m\u001b[0m\n",
      "\u001b[0;32m~/Documents/dagster/python_modules/dagster/dagster/core/definitions/repository.py\u001b[0m in \u001b[0;36msolid_def_named\u001b[0;34m(self, name)\u001b[0m\n\u001b[1;32m    148\u001b[0m     \u001b[0;32mdef\u001b[0m \u001b[0msolid_def_named\u001b[0m\u001b[0;34m(\u001b[0m\u001b[0mself\u001b[0m\u001b[0;34m,\u001b[0m \u001b[0mname\u001b[0m\u001b[0;34m)\u001b[0m\u001b[0;34m:\u001b[0m\u001b[0;34m\u001b[0m\u001b[0m\n\u001b[1;32m    149\u001b[0m         \u001b[0mcheck\u001b[0m\u001b[0;34m.\u001b[0m\u001b[0mstr_param\u001b[0m\u001b[0;34m(\u001b[0m\u001b[0mname\u001b[0m\u001b[0;34m,\u001b[0m \u001b[0;34m'name'\u001b[0m\u001b[0;34m)\u001b[0m\u001b[0;34m\u001b[0m\u001b[0m\n\u001b[0;32m--> 150\u001b[0;31m         \u001b[0;32mfor\u001b[0m \u001b[0mpipeline\u001b[0m \u001b[0;32min\u001b[0m \u001b[0mself\u001b[0m\u001b[0;34m.\u001b[0m\u001b[0mget_all_pipelines\u001b[0m\u001b[0;34m(\u001b[0m\u001b[0;34m)\u001b[0m\u001b[0;34m:\u001b[0m\u001b[0;34m\u001b[0m\u001b[0m\n\u001b[0m\u001b[1;32m    151\u001b[0m             \u001b[0;32mfor\u001b[0m \u001b[0msolid\u001b[0m \u001b[0;32min\u001b[0m \u001b[0mpipeline\u001b[0m\u001b[0;34m.\u001b[0m\u001b[0msolids\u001b[0m\u001b[0;34m:\u001b[0m\u001b[0;34m\u001b[0m\u001b[0m\n\u001b[1;32m    152\u001b[0m                 \u001b[0;32mif\u001b[0m \u001b[0msolid\u001b[0m\u001b[0;34m.\u001b[0m\u001b[0mdefinition\u001b[0m\u001b[0;34m.\u001b[0m\u001b[0mname\u001b[0m \u001b[0;34m==\u001b[0m \u001b[0mname\u001b[0m\u001b[0;34m:\u001b[0m\u001b[0;34m\u001b[0m\u001b[0m\n",
      "\u001b[0;32m~/Documents/dagster/python_modules/dagster/dagster/core/definitions/repository.py\u001b[0m in \u001b[0;36mget_all_pipelines\u001b[0;34m(self)\u001b[0m\n\u001b[1;32m    105\u001b[0m \u001b[0;34m\u001b[0m\u001b[0m\n\u001b[1;32m    106\u001b[0m         '''\n\u001b[0;32m--> 107\u001b[0;31m         \u001b[0mpipelines\u001b[0m \u001b[0;34m=\u001b[0m \u001b[0mlist\u001b[0m\u001b[0;34m(\u001b[0m\u001b[0mself\u001b[0m\u001b[0;34m.\u001b[0m\u001b[0miterate_over_pipelines\u001b[0m\u001b[0;34m(\u001b[0m\u001b[0;34m)\u001b[0m\u001b[0;34m)\u001b[0m\u001b[0;34m\u001b[0m\u001b[0m\n\u001b[0m\u001b[1;32m    108\u001b[0m \u001b[0;34m\u001b[0m\u001b[0m\n\u001b[1;32m    109\u001b[0m         \u001b[0mself\u001b[0m\u001b[0;34m.\u001b[0m\u001b[0m_construct_solid_defs\u001b[0m\u001b[0;34m(\u001b[0m\u001b[0mpipelines\u001b[0m\u001b[0;34m)\u001b[0m\u001b[0;34m\u001b[0m\u001b[0m\n",
      "\u001b[0;32m~/Documents/dagster/python_modules/dagster/dagster/core/definitions/repository.py\u001b[0m in \u001b[0;36miterate_over_pipelines\u001b[0;34m(self)\u001b[0m\n\u001b[1;32m     96\u001b[0m         '''\n\u001b[1;32m     97\u001b[0m         \u001b[0;32mfor\u001b[0m \u001b[0mname\u001b[0m \u001b[0;32min\u001b[0m \u001b[0mself\u001b[0m\u001b[0;34m.\u001b[0m\u001b[0mpipeline_dict\u001b[0m\u001b[0;34m.\u001b[0m\u001b[0mkeys\u001b[0m\u001b[0;34m(\u001b[0m\u001b[0;34m)\u001b[0m\u001b[0;34m:\u001b[0m\u001b[0;34m\u001b[0m\u001b[0m\n\u001b[0;32m---> 98\u001b[0;31m             \u001b[0;32myield\u001b[0m \u001b[0mself\u001b[0m\u001b[0;34m.\u001b[0m\u001b[0mget_pipeline\u001b[0m\u001b[0;34m(\u001b[0m\u001b[0mname\u001b[0m\u001b[0;34m)\u001b[0m\u001b[0;34m\u001b[0m\u001b[0m\n\u001b[0m\u001b[1;32m     99\u001b[0m \u001b[0;34m\u001b[0m\u001b[0m\n\u001b[1;32m    100\u001b[0m     \u001b[0;32mdef\u001b[0m \u001b[0mget_all_pipelines\u001b[0m\u001b[0;34m(\u001b[0m\u001b[0mself\u001b[0m\u001b[0;34m)\u001b[0m\u001b[0;34m:\u001b[0m\u001b[0;34m\u001b[0m\u001b[0m\n",
      "\u001b[0;32m~/Documents/dagster/python_modules/dagster/dagster/core/definitions/repository.py\u001b[0m in \u001b[0;36mget_pipeline\u001b[0;34m(self, name)\u001b[0m\n\u001b[1;32m     59\u001b[0m \u001b[0;34m\u001b[0m\u001b[0m\n\u001b[1;32m     60\u001b[0m         \u001b[0;32mtry\u001b[0m\u001b[0;34m:\u001b[0m\u001b[0;34m\u001b[0m\u001b[0m\n\u001b[0;32m---> 61\u001b[0;31m             \u001b[0mpipeline\u001b[0m \u001b[0;34m=\u001b[0m \u001b[0mself\u001b[0m\u001b[0;34m.\u001b[0m\u001b[0mpipeline_dict\u001b[0m\u001b[0;34m[\u001b[0m\u001b[0mname\u001b[0m\u001b[0;34m]\u001b[0m\u001b[0;34m(\u001b[0m\u001b[0;34m)\u001b[0m\u001b[0;34m\u001b[0m\u001b[0m\n\u001b[0m\u001b[1;32m     62\u001b[0m         \u001b[0;32mexcept\u001b[0m \u001b[0mKeyError\u001b[0m\u001b[0;34m:\u001b[0m\u001b[0;34m\u001b[0m\u001b[0m\n\u001b[1;32m     63\u001b[0m             raise check.CheckError(\n",
      "\u001b[0;32m~/Documents/dagster/python_modules/dagstermill/dagstermill/examples/repository.py\u001b[0m in \u001b[0;36mdefine_test_notebook_dag_pipeline\u001b[0;34m()\u001b[0m\n\u001b[1;32m    113\u001b[0m             SolidInstance(name='mult_two_numbers', alias='mult_two'): {\n\u001b[1;32m    114\u001b[0m                 \u001b[0;34m'a'\u001b[0m\u001b[0;34m:\u001b[0m \u001b[0mDependencyDefinition\u001b[0m\u001b[0;34m(\u001b[0m\u001b[0;34m'add_two'\u001b[0m\u001b[0;34m)\u001b[0m\u001b[0;34m,\u001b[0m\u001b[0;34m\u001b[0m\u001b[0m\n\u001b[0;32m--> 115\u001b[0;31m                 \u001b[0;34m'b'\u001b[0m\u001b[0;34m:\u001b[0m \u001b[0mDependencyDefinition\u001b[0m\u001b[0;34m(\u001b[0m\u001b[0;34m'load_b'\u001b[0m\u001b[0;34m)\u001b[0m\u001b[0;34m,\u001b[0m\u001b[0;34m\u001b[0m\u001b[0m\n\u001b[0m\u001b[1;32m    116\u001b[0m             },\n\u001b[1;32m    117\u001b[0m         },\n",
      "\u001b[0;32m~/Documents/dagster/python_modules/dagster/dagster/core/definitions/pipeline.py\u001b[0m in \u001b[0;36m__init__\u001b[0;34m(self, solids, name, description, context_definitions, dependencies)\u001b[0m\n\u001b[1;32m     72\u001b[0m \u001b[0;34m\u001b[0m\u001b[0m\n\u001b[1;32m     73\u001b[0m         \u001b[0;32mif\u001b[0m \u001b[0mcontext_definitions\u001b[0m \u001b[0;32mis\u001b[0m \u001b[0;32mNone\u001b[0m\u001b[0;34m:\u001b[0m\u001b[0;34m\u001b[0m\u001b[0m\n\u001b[0;32m---> 74\u001b[0;31m             \u001b[0mcontext_definitions\u001b[0m \u001b[0;34m=\u001b[0m \u001b[0mdefault_pipeline_context_definitions\u001b[0m\u001b[0;34m(\u001b[0m\u001b[0;34m)\u001b[0m\u001b[0;34m\u001b[0m\u001b[0m\n\u001b[0m\u001b[1;32m     75\u001b[0m \u001b[0;34m\u001b[0m\u001b[0m\n\u001b[1;32m     76\u001b[0m         self.context_definitions = check.dict_param(\n",
      "\u001b[0;32m~/Documents/dagster/python_modules/dagster/dagster/core/definitions/context.py\u001b[0m in \u001b[0;36mdefault_pipeline_context_definitions\u001b[0;34m()\u001b[0m\n\u001b[1;32m     96\u001b[0m \u001b[0;34m\u001b[0m\u001b[0m\n\u001b[1;32m     97\u001b[0m     default_context_def = PipelineContextDefinition(\n\u001b[0;32m---> 98\u001b[0;31m         config_field=Field(\n\u001b[0m\u001b[1;32m     99\u001b[0m             \u001b[0mDict\u001b[0m\u001b[0;34m(\u001b[0m\u001b[0;34m{\u001b[0m\u001b[0;34m'log_level'\u001b[0m\u001b[0;34m:\u001b[0m \u001b[0mField\u001b[0m\u001b[0;34m(\u001b[0m\u001b[0mdagster_type\u001b[0m\u001b[0;34m=\u001b[0m\u001b[0mString\u001b[0m\u001b[0;34m,\u001b[0m \u001b[0mis_optional\u001b[0m\u001b[0;34m=\u001b[0m\u001b[0;32mTrue\u001b[0m\u001b[0;34m,\u001b[0m \u001b[0mdefault_value\u001b[0m\u001b[0;34m=\u001b[0m\u001b[0;34m'INFO'\u001b[0m\u001b[0;34m)\u001b[0m\u001b[0;34m}\u001b[0m\u001b[0;34m)\u001b[0m\u001b[0;34m\u001b[0m\u001b[0m\n\u001b[1;32m    100\u001b[0m         ),\n",
      "\u001b[0;32m~/Documents/dagster/python_modules/dagster/dagster/core/types/field.py\u001b[0m in \u001b[0;36m__init__\u001b[0;34m(self, dagster_type, default_value, is_optional, description)\u001b[0m\n",
      "\u001b[0;32m~/Documents/dagster/python_modules/dagster/dagster/core/types/config.py\u001b[0m in \u001b[0;36mresolve_to_config_type\u001b[0;34m(dagster_type)\u001b[0m\n",
      "\u001b[0;31mNameError\u001b[0m: name 'WrappingListType' is not defined"
     ]
    }
   ],
   "source": [
    "%load_ext autoreload\n",
    "%autoreload 2\n",
    "import dagster\n",
    "import dagstermill as dm\n",
    "import logging\n",
    "from dagstermill.examples.repository import define_example_repository\n",
    "dm.declare_as_solid(define_example_repository(), 'add_two_numbers')"
   ]
  },
  {
   "cell_type": "code",
   "execution_count": 33,
   "metadata": {},
   "outputs": [],
   "source": [
    "repo = define_example_repository()\n",
    "pipeline_def = repo.get_pipeline(\"test_add_pipeline\")"
   ]
  },
  {
   "cell_type": "code",
   "execution_count": 40,
   "metadata": {},
   "outputs": [],
   "source": [
    "from dagster.core.definitions.dependency import Solid\n",
    "solid_def = dm.get_solid_definition()"
   ]
  },
  {
   "cell_type": "code",
   "execution_count": 57,
   "metadata": {},
   "outputs": [
    {
     "name": "stderr",
     "output_type": "stream",
     "text": [
      "[autoreload of dagster failed: Traceback (most recent call last):\n",
      "  File \"/Users/umaroy/.virtualenvs/dagsterenv/lib/python3.6/site-packages/IPython/extensions/autoreload.py\", line 244, in check\n",
      "    superreload(m, reload, self.old_objects)\n",
      "  File \"/Users/umaroy/.virtualenvs/dagsterenv/lib/python3.6/site-packages/IPython/extensions/autoreload.py\", line 376, in superreload\n",
      "    module = reload(module)\n",
      "  File \"/Users/umaroy/.virtualenvs/dagsterenv/lib/python3.6/imp.py\", line 315, in reload\n",
      "    return importlib.reload(module)\n",
      "  File \"/Users/umaroy/.virtualenvs/dagsterenv/lib/python3.6/importlib/__init__.py\", line 166, in reload\n",
      "    _bootstrap._exec(spec, module)\n",
      "  File \"<frozen importlib._bootstrap>\", line 618, in _exec\n",
      "  File \"<frozen importlib._bootstrap_external>\", line 678, in exec_module\n",
      "  File \"<frozen importlib._bootstrap>\", line 219, in _call_with_frames_removed\n",
      "  File \"/Users/umaroy/Documents/dagster/python_modules/dagster/dagster/__init__.py\", line 59, in <module>\n",
      "    from dagster.core.types.decorator import dagster_type, as_dagster_type\n",
      "ImportError: cannot import name 'as_dagster_type'\n",
      "]\n",
      "[autoreload of dagster.core.types failed: Traceback (most recent call last):\n",
      "  File \"/Users/umaroy/.virtualenvs/dagsterenv/lib/python3.6/site-packages/IPython/extensions/autoreload.py\", line 244, in check\n",
      "    superreload(m, reload, self.old_objects)\n",
      "  File \"/Users/umaroy/.virtualenvs/dagsterenv/lib/python3.6/site-packages/IPython/extensions/autoreload.py\", line 376, in superreload\n",
      "    module = reload(module)\n",
      "  File \"/Users/umaroy/.virtualenvs/dagsterenv/lib/python3.6/imp.py\", line 315, in reload\n",
      "    return importlib.reload(module)\n",
      "  File \"/Users/umaroy/.virtualenvs/dagsterenv/lib/python3.6/importlib/__init__.py\", line 166, in reload\n",
      "    _bootstrap._exec(spec, module)\n",
      "  File \"<frozen importlib._bootstrap>\", line 618, in _exec\n",
      "  File \"<frozen importlib._bootstrap_external>\", line 678, in exec_module\n",
      "  File \"<frozen importlib._bootstrap>\", line 219, in _call_with_frames_removed\n",
      "  File \"/Users/umaroy/Documents/dagster/python_modules/dagster/dagster/core/types/__init__.py\", line 4, in <module>\n",
      "    from .field_utils import Dict, NamedDict, Selector, NamedSelector\n",
      "  File \"/Users/umaroy/Documents/dagster/python_modules/dagster/dagster/core/types/field_utils.py\", line 3, in <module>\n",
      "    from .default_applier import apply_default_values\n",
      "  File \"/Users/umaroy/Documents/dagster/python_modules/dagster/dagster/core/types/default_applier.py\", line 2, in <module>\n",
      "    from dagster.utils import single_item\n",
      "ImportError: cannot import name 'single_item'\n",
      "]\n",
      "[autoreload of dagster.core.types.field failed: Traceback (most recent call last):\n",
      "  File \"/Users/umaroy/.virtualenvs/dagsterenv/lib/python3.6/site-packages/IPython/extensions/autoreload.py\", line 244, in check\n",
      "    superreload(m, reload, self.old_objects)\n",
      "  File \"/Users/umaroy/.virtualenvs/dagsterenv/lib/python3.6/site-packages/IPython/extensions/autoreload.py\", line 376, in superreload\n",
      "    module = reload(module)\n",
      "  File \"/Users/umaroy/.virtualenvs/dagsterenv/lib/python3.6/imp.py\", line 315, in reload\n",
      "    return importlib.reload(module)\n",
      "  File \"/Users/umaroy/.virtualenvs/dagsterenv/lib/python3.6/importlib/__init__.py\", line 166, in reload\n",
      "    _bootstrap._exec(spec, module)\n",
      "  File \"<frozen importlib._bootstrap>\", line 618, in _exec\n",
      "  File \"<frozen importlib._bootstrap_external>\", line 678, in exec_module\n",
      "  File \"<frozen importlib._bootstrap>\", line 219, in _call_with_frames_removed\n",
      "  File \"/Users/umaroy/Documents/dagster/python_modules/dagster/dagster/core/types/field.py\", line 4, in <module>\n",
      "    from .field_utils import FieldImpl, FIELD_NO_DEFAULT_PROVIDED, INFER_OPTIONAL_COMPOSITE_FIELD\n",
      "  File \"/Users/umaroy/Documents/dagster/python_modules/dagster/dagster/core/types/field_utils.py\", line 3, in <module>\n",
      "    from .default_applier import apply_default_values\n",
      "  File \"/Users/umaroy/Documents/dagster/python_modules/dagster/dagster/core/types/default_applier.py\", line 2, in <module>\n",
      "    from dagster.utils import single_item\n",
      "ImportError: cannot import name 'single_item'\n",
      "]\n",
      "[autoreload of dagster.core.types.runtime failed: Traceback (most recent call last):\n",
      "  File \"/Users/umaroy/.virtualenvs/dagsterenv/lib/python3.6/site-packages/IPython/extensions/autoreload.py\", line 244, in check\n",
      "    superreload(m, reload, self.old_objects)\n",
      "  File \"/Users/umaroy/.virtualenvs/dagsterenv/lib/python3.6/site-packages/IPython/extensions/autoreload.py\", line 376, in superreload\n",
      "    module = reload(module)\n",
      "  File \"/Users/umaroy/.virtualenvs/dagsterenv/lib/python3.6/imp.py\", line 315, in reload\n",
      "    return importlib.reload(module)\n",
      "  File \"/Users/umaroy/.virtualenvs/dagsterenv/lib/python3.6/importlib/__init__.py\", line 166, in reload\n",
      "    _bootstrap._exec(spec, module)\n",
      "  File \"<frozen importlib._bootstrap>\", line 618, in _exec\n",
      "  File \"<frozen importlib._bootstrap_external>\", line 678, in exec_module\n",
      "  File \"<frozen importlib._bootstrap>\", line 219, in _call_with_frames_removed\n",
      "  File \"/Users/umaroy/Documents/dagster/python_modules/dagster/dagster/core/types/runtime.py\", line 8, in <module>\n",
      "    from .builtin_config_schemas import BuiltinSchemas\n",
      "ImportError: cannot import name 'BuiltinSchemas'\n",
      "]\n",
      "[autoreload of dagster.core.types.builtin_config_schemas failed: Traceback (most recent call last):\n",
      "  File \"/Users/umaroy/.virtualenvs/dagsterenv/lib/python3.6/site-packages/IPython/extensions/autoreload.py\", line 244, in check\n",
      "    superreload(m, reload, self.old_objects)\n",
      "  File \"/Users/umaroy/.virtualenvs/dagsterenv/lib/python3.6/site-packages/IPython/extensions/autoreload.py\", line 376, in superreload\n",
      "    module = reload(module)\n",
      "  File \"/Users/umaroy/.virtualenvs/dagsterenv/lib/python3.6/imp.py\", line 315, in reload\n",
      "    return importlib.reload(module)\n",
      "  File \"/Users/umaroy/.virtualenvs/dagsterenv/lib/python3.6/importlib/__init__.py\", line 166, in reload\n",
      "    _bootstrap._exec(spec, module)\n",
      "  File \"<frozen importlib._bootstrap>\", line 618, in _exec\n",
      "  File \"<frozen importlib._bootstrap_external>\", line 678, in exec_module\n",
      "  File \"<frozen importlib._bootstrap>\", line 219, in _call_with_frames_removed\n",
      "  File \"/Users/umaroy/Documents/dagster/python_modules/dagster/dagster/core/types/builtin_config_schemas.py\", line 7, in <module>\n",
      "    from .config_schema import make_bare_input_schema, input_selector_schema, output_selector_schema\n",
      "ImportError: cannot import name 'make_bare_input_schema'\n",
      "]\n",
      "[autoreload of dagster.core.types.config_schema failed: Traceback (most recent call last):\n",
      "  File \"/Users/umaroy/.virtualenvs/dagsterenv/lib/python3.6/site-packages/IPython/extensions/autoreload.py\", line 244, in check\n",
      "    superreload(m, reload, self.old_objects)\n",
      "  File \"/Users/umaroy/.virtualenvs/dagsterenv/lib/python3.6/site-packages/IPython/extensions/autoreload.py\", line 376, in superreload\n",
      "    module = reload(module)\n",
      "  File \"/Users/umaroy/.virtualenvs/dagsterenv/lib/python3.6/imp.py\", line 315, in reload\n",
      "    return importlib.reload(module)\n",
      "  File \"/Users/umaroy/.virtualenvs/dagsterenv/lib/python3.6/importlib/__init__.py\", line 166, in reload\n",
      "    _bootstrap._exec(spec, module)\n",
      "  File \"<frozen importlib._bootstrap>\", line 618, in _exec\n",
      "  File \"<frozen importlib._bootstrap_external>\", line 678, in exec_module\n",
      "  File \"<frozen importlib._bootstrap>\", line 219, in _call_with_frames_removed\n",
      "  File \"/Users/umaroy/Documents/dagster/python_modules/dagster/dagster/core/types/config_schema.py\", line 2, in <module>\n",
      "    from dagster.utils import single_item\n",
      "ImportError: cannot import name 'single_item'\n",
      "]\n",
      "[autoreload of dagster.core.definitions.context failed: Traceback (most recent call last):\n",
      "  File \"/Users/umaroy/.virtualenvs/dagsterenv/lib/python3.6/site-packages/IPython/extensions/autoreload.py\", line 244, in check\n",
      "    superreload(m, reload, self.old_objects)\n",
      "  File \"/Users/umaroy/.virtualenvs/dagsterenv/lib/python3.6/site-packages/IPython/extensions/autoreload.py\", line 376, in superreload\n",
      "    module = reload(module)\n",
      "  File \"/Users/umaroy/.virtualenvs/dagsterenv/lib/python3.6/imp.py\", line 315, in reload\n",
      "    return importlib.reload(module)\n",
      "  File \"/Users/umaroy/.virtualenvs/dagsterenv/lib/python3.6/importlib/__init__.py\", line 166, in reload\n",
      "    _bootstrap._exec(spec, module)\n",
      "  File \"<frozen importlib._bootstrap>\", line 618, in _exec\n",
      "  File \"<frozen importlib._bootstrap_external>\", line 678, in exec_module\n",
      "  File \"<frozen importlib._bootstrap>\", line 219, in _call_with_frames_removed\n",
      "  File \"/Users/umaroy/Documents/dagster/python_modules/dagster/dagster/core/definitions/context.py\", line 6, in <module>\n",
      "    from dagster.core.types.field_utils import check_opt_field_param\n",
      "  File \"/Users/umaroy/Documents/dagster/python_modules/dagster/dagster/core/types/field_utils.py\", line 3, in <module>\n",
      "    from .default_applier import apply_default_values\n",
      "  File \"/Users/umaroy/Documents/dagster/python_modules/dagster/dagster/core/types/default_applier.py\", line 2, in <module>\n",
      "    from dagster.utils import single_item\n",
      "ImportError: cannot import name 'single_item'\n",
      "]\n",
      "[autoreload of dagster.core.system_config.types failed: Traceback (most recent call last):\n",
      "  File \"/Users/umaroy/.virtualenvs/dagsterenv/lib/python3.6/site-packages/IPython/extensions/autoreload.py\", line 244, in check\n",
      "    superreload(m, reload, self.old_objects)\n",
      "  File \"/Users/umaroy/.virtualenvs/dagsterenv/lib/python3.6/site-packages/IPython/extensions/autoreload.py\", line 376, in superreload\n",
      "    module = reload(module)\n",
      "  File \"/Users/umaroy/.virtualenvs/dagsterenv/lib/python3.6/imp.py\", line 315, in reload\n",
      "    return importlib.reload(module)\n",
      "  File \"/Users/umaroy/.virtualenvs/dagsterenv/lib/python3.6/importlib/__init__.py\", line 166, in reload\n",
      "    _bootstrap._exec(spec, module)\n",
      "  File \"<frozen importlib._bootstrap>\", line 618, in _exec\n",
      "  File \"<frozen importlib._bootstrap_external>\", line 678, in exec_module\n",
      "  File \"<frozen importlib._bootstrap>\", line 219, in _call_with_frames_removed\n",
      "  File \"/Users/umaroy/Documents/dagster/python_modules/dagster/dagster/core/system_config/types.py\", line 15, in <module>\n",
      "    from dagster.core.types import Bool, Field, List, NamedDict, NamedSelector\n",
      "ImportError: cannot import name 'NamedSelector'\n",
      "]\n"
     ]
    },
    {
     "ename": "NameError",
     "evalue": "name 'WrappingListType' is not defined",
     "output_type": "error",
     "traceback": [
      "\u001b[0;31m---------------------------------------------------------------------------\u001b[0m",
      "\u001b[0;31mNameError\u001b[0m                                 Traceback (most recent call last)",
      "\u001b[0;32m<ipython-input-57-898c09041a29>\u001b[0m in \u001b[0;36m<module>\u001b[0;34m\u001b[0m\n\u001b[0;32m----> 1\u001b[0;31m \u001b[0mpipeline_def_2\u001b[0m \u001b[0;34m=\u001b[0m \u001b[0mdagster\u001b[0m\u001b[0;34m.\u001b[0m\u001b[0mcore\u001b[0m\u001b[0;34m.\u001b[0m\u001b[0mdefinitions\u001b[0m\u001b[0;34m.\u001b[0m\u001b[0mpipeline\u001b[0m\u001b[0;34m.\u001b[0m\u001b[0mPipelineDefinition\u001b[0m\u001b[0;34m(\u001b[0m\u001b[0msolids\u001b[0m\u001b[0;34m=\u001b[0m\u001b[0;34m[\u001b[0m\u001b[0msolid_def\u001b[0m\u001b[0;34m]\u001b[0m\u001b[0;34m,\u001b[0m \u001b[0mname\u001b[0m \u001b[0;34m=\u001b[0m \u001b[0;34m\"test_add_pipeline\"\u001b[0m\u001b[0;34m)\u001b[0m\u001b[0;34m\u001b[0m\u001b[0m\n\u001b[0m",
      "\u001b[0;32m~/Documents/dagster/python_modules/dagster/dagster/core/definitions/pipeline.py\u001b[0m in \u001b[0;36m__init__\u001b[0;34m(self, solids, name, description, context_definitions, dependencies)\u001b[0m\n\u001b[1;32m     72\u001b[0m \u001b[0;34m\u001b[0m\u001b[0m\n\u001b[1;32m     73\u001b[0m         \u001b[0;32mif\u001b[0m \u001b[0mcontext_definitions\u001b[0m \u001b[0;32mis\u001b[0m \u001b[0;32mNone\u001b[0m\u001b[0;34m:\u001b[0m\u001b[0;34m\u001b[0m\u001b[0m\n\u001b[0;32m---> 74\u001b[0;31m             \u001b[0mcontext_definitions\u001b[0m \u001b[0;34m=\u001b[0m \u001b[0mdefault_pipeline_context_definitions\u001b[0m\u001b[0;34m(\u001b[0m\u001b[0;34m)\u001b[0m\u001b[0;34m\u001b[0m\u001b[0m\n\u001b[0m\u001b[1;32m     75\u001b[0m \u001b[0;34m\u001b[0m\u001b[0m\n\u001b[1;32m     76\u001b[0m         self.context_definitions = check.dict_param(\n",
      "\u001b[0;32m~/Documents/dagster/python_modules/dagster/dagster/core/definitions/context.py\u001b[0m in \u001b[0;36mdefault_pipeline_context_definitions\u001b[0;34m()\u001b[0m\n\u001b[1;32m     96\u001b[0m \u001b[0;34m\u001b[0m\u001b[0m\n\u001b[1;32m     97\u001b[0m     default_context_def = PipelineContextDefinition(\n\u001b[0;32m---> 98\u001b[0;31m         config_field=Field(\n\u001b[0m\u001b[1;32m     99\u001b[0m             \u001b[0mDict\u001b[0m\u001b[0;34m(\u001b[0m\u001b[0;34m{\u001b[0m\u001b[0;34m'log_level'\u001b[0m\u001b[0;34m:\u001b[0m \u001b[0mField\u001b[0m\u001b[0;34m(\u001b[0m\u001b[0mdagster_type\u001b[0m\u001b[0;34m=\u001b[0m\u001b[0mString\u001b[0m\u001b[0;34m,\u001b[0m \u001b[0mis_optional\u001b[0m\u001b[0;34m=\u001b[0m\u001b[0;32mTrue\u001b[0m\u001b[0;34m,\u001b[0m \u001b[0mdefault_value\u001b[0m\u001b[0;34m=\u001b[0m\u001b[0;34m'INFO'\u001b[0m\u001b[0;34m)\u001b[0m\u001b[0;34m}\u001b[0m\u001b[0;34m)\u001b[0m\u001b[0;34m\u001b[0m\u001b[0m\n\u001b[1;32m    100\u001b[0m         ),\n",
      "\u001b[0;32m~/Documents/dagster/python_modules/dagster/dagster/core/types/field.py\u001b[0m in \u001b[0;36m__init__\u001b[0;34m(self, dagster_type, default_value, is_optional, description)\u001b[0m\n",
      "\u001b[0;32m~/Documents/dagster/python_modules/dagster/dagster/core/types/config.py\u001b[0m in \u001b[0;36mresolve_to_config_type\u001b[0;34m(dagster_type)\u001b[0m\n",
      "\u001b[0;31mNameError\u001b[0m: name 'WrappingListType' is not defined"
     ]
    }
   ],
   "source": [
    "pipeline_def_2 = dagster.core.definitions.pipeline.PipelineDefinition(solids=[solid_def], name = \"test_add_pipeline\")"
   ]
  },
  {
   "cell_type": "code",
   "execution_count": 25,
   "metadata": {},
   "outputs": [],
   "source": [
    "from dagster.core.execution import create_typed_environment"
   ]
  },
  {
   "cell_type": "code",
   "execution_count": 34,
   "metadata": {},
   "outputs": [
    {
     "data": {
      "text/plain": [
       "EnvironmentConfig(context=ContextConfig(name='default', config={'log_level': 'INFO'}, resources={}), solids={'add_two_numbers': SolidConfig(config=None, inputs={}, outputs=[])}, expectations=ExpectationsConfig(evaluate=True), execution=ExecutionConfig())"
      ]
     },
     "execution_count": 34,
     "metadata": {},
     "output_type": "execute_result"
    }
   ],
   "source": [
    "create_typed_environment(pipeline_def, {})"
   ]
  },
  {
   "cell_type": "code",
   "execution_count": 56,
   "metadata": {},
   "outputs": [
    {
     "ename": "PipelineConfigEvaluationError",
     "evalue": "Pipeline \"add_two_numbers\" config errors:\n    Error 1: Missing required field \"solids\" at document config root.",
     "output_type": "error",
     "traceback": [
      "\u001b[0;31m---------------------------------------------------------------------------\u001b[0m",
      "\u001b[0;31mPipelineConfigEvaluationError\u001b[0m             Traceback (most recent call last)",
      "\u001b[0;32m<ipython-input-56-35bb10c206cc>\u001b[0m in \u001b[0;36m<module>\u001b[0;34m\u001b[0m\n\u001b[0;32m----> 1\u001b[0;31m \u001b[0mcreate_typed_environment\u001b[0m\u001b[0;34m(\u001b[0m\u001b[0mpipeline_def_2\u001b[0m\u001b[0;34m,\u001b[0m \u001b[0;34m{\u001b[0m\u001b[0;34m}\u001b[0m\u001b[0;34m)\u001b[0m\u001b[0;34m\u001b[0m\u001b[0m\n\u001b[0m",
      "\u001b[0;32m~/Documents/dagster/python_modules/dagster/dagster/core/execution.py\u001b[0m in \u001b[0;36mcreate_typed_environment\u001b[0;34m(pipeline, environment)\u001b[0m\n\u001b[1;32m    631\u001b[0m \u001b[0;34m\u001b[0m\u001b[0m\n\u001b[1;32m    632\u001b[0m     \u001b[0;32mif\u001b[0m \u001b[0;32mnot\u001b[0m \u001b[0mresult\u001b[0m\u001b[0;34m.\u001b[0m\u001b[0msuccess\u001b[0m\u001b[0;34m:\u001b[0m\u001b[0;34m\u001b[0m\u001b[0m\n\u001b[0;32m--> 633\u001b[0;31m         \u001b[0;32mraise\u001b[0m \u001b[0mPipelineConfigEvaluationError\u001b[0m\u001b[0;34m(\u001b[0m\u001b[0mpipeline\u001b[0m\u001b[0;34m,\u001b[0m \u001b[0mresult\u001b[0m\u001b[0;34m.\u001b[0m\u001b[0merrors\u001b[0m\u001b[0;34m,\u001b[0m \u001b[0menvironment\u001b[0m\u001b[0;34m)\u001b[0m\u001b[0;34m\u001b[0m\u001b[0m\n\u001b[0m\u001b[1;32m    634\u001b[0m \u001b[0;34m\u001b[0m\u001b[0m\n\u001b[1;32m    635\u001b[0m     \u001b[0;32mreturn\u001b[0m \u001b[0mconstruct_environment_config\u001b[0m\u001b[0;34m(\u001b[0m\u001b[0mresult\u001b[0m\u001b[0;34m.\u001b[0m\u001b[0mvalue\u001b[0m\u001b[0;34m)\u001b[0m\u001b[0;34m\u001b[0m\u001b[0m\n",
      "\u001b[0;31mPipelineConfigEvaluationError\u001b[0m: Pipeline \"add_two_numbers\" config errors:\n    Error 1: Missing required field \"solids\" at document config root."
     ]
    }
   ],
   "source": [
    "create_typed_environment(pipeline_def_2, {})"
   ]
  },
  {
   "cell_type": "code",
   "execution_count": 49,
   "metadata": {},
   "outputs": [
    {
     "data": {
      "text/plain": [
       "<dagster.core.types.field.NamedDict.<locals>._NamedDict at 0x118e46748>"
      ]
     },
     "execution_count": 49,
     "metadata": {},
     "output_type": "execute_result"
    }
   ],
   "source": [
    "pipeline_def.environment_type"
   ]
  },
  {
   "cell_type": "code",
   "execution_count": 54,
   "metadata": {},
   "outputs": [
    {
     "data": {
      "text/plain": [
       "<dagster.core.types.field.NamedDict.<locals>._NamedDict at 0x118e46f98>"
      ]
     },
     "execution_count": 54,
     "metadata": {},
     "output_type": "execute_result"
    }
   ],
   "source": [
    "pipeline_def_2.environment_type"
   ]
  },
  {
   "cell_type": "code",
   "execution_count": 37,
   "metadata": {},
   "outputs": [
    {
     "ename": "PipelineConfigEvaluationError",
     "evalue": "Pipeline \"emphemeral notebook pipeline\" config errors:\n    Error 1: Missing required field \"solids\" at document config root.",
     "output_type": "error",
     "traceback": [
      "\u001b[0;31m---------------------------------------------------------------------------\u001b[0m",
      "\u001b[0;31mPipelineConfigEvaluationError\u001b[0m             Traceback (most recent call last)",
      "\u001b[0;32m<ipython-input-37-330fd357f69f>\u001b[0m in \u001b[0;36m<module>\u001b[0;34m\u001b[0m\n\u001b[0;32m----> 1\u001b[0;31m \u001b[0mdm\u001b[0m\u001b[0;34m.\u001b[0m\u001b[0mdefine_info\u001b[0m\u001b[0;34m(\u001b[0m\u001b[0;34m)\u001b[0m\u001b[0;34m\u001b[0m\u001b[0m\n\u001b[0m",
      "\u001b[0;32m~/Documents/dagster/python_modules/dagstermill/dagstermill/__init__.py\u001b[0m in \u001b[0;36mdefine_info\u001b[0;34m(context_config)\u001b[0m\n\u001b[1;32m    168\u001b[0m     \u001b[0mpipeline_def\u001b[0m \u001b[0;34m=\u001b[0m \u001b[0mPipelineDefinition\u001b[0m\u001b[0;34m(\u001b[0m\u001b[0msolids\u001b[0m\u001b[0;34m=\u001b[0m\u001b[0;34m[\u001b[0m\u001b[0msolid_def\u001b[0m\u001b[0;34m]\u001b[0m\u001b[0;34m,\u001b[0m \u001b[0mname\u001b[0m\u001b[0;34m=\u001b[0m\u001b[0;34m\"emphemeral notebook pipeline\"\u001b[0m\u001b[0;34m)\u001b[0m\u001b[0;34m\u001b[0m\u001b[0m\n\u001b[1;32m    169\u001b[0m \u001b[0;34m\u001b[0m\u001b[0m\n\u001b[0;32m--> 170\u001b[0;31m     \u001b[0menvironment_config\u001b[0m \u001b[0;34m=\u001b[0m \u001b[0mcreate_typed_environment\u001b[0m\u001b[0;34m(\u001b[0m\u001b[0mpipeline_def\u001b[0m\u001b[0;34m,\u001b[0m \u001b[0mcontext_config\u001b[0m\u001b[0;34m)\u001b[0m\u001b[0;34m\u001b[0m\u001b[0m\n\u001b[0m\u001b[1;32m    171\u001b[0m     \u001b[0mcheck\u001b[0m\u001b[0;34m.\u001b[0m\u001b[0minst_param\u001b[0m\u001b[0;34m(\u001b[0m\u001b[0menvironment_config\u001b[0m\u001b[0;34m,\u001b[0m \u001b[0;34m'typed_environment'\u001b[0m\u001b[0;34m,\u001b[0m \u001b[0mEnvironmentConfig\u001b[0m\u001b[0;34m)\u001b[0m\u001b[0;34m\u001b[0m\u001b[0m\n\u001b[1;32m    172\u001b[0m     \u001b[0mrun_id\u001b[0m \u001b[0;34m=\u001b[0m \u001b[0;34m\"\"\u001b[0m\u001b[0;34m\u001b[0m\u001b[0m\n",
      "\u001b[0;32m~/Documents/dagster/python_modules/dagster/dagster/core/execution.py\u001b[0m in \u001b[0;36mcreate_typed_environment\u001b[0;34m(pipeline, environment)\u001b[0m\n\u001b[1;32m    631\u001b[0m \u001b[0;34m\u001b[0m\u001b[0m\n\u001b[1;32m    632\u001b[0m     \u001b[0;32mif\u001b[0m \u001b[0;32mnot\u001b[0m \u001b[0mresult\u001b[0m\u001b[0;34m.\u001b[0m\u001b[0msuccess\u001b[0m\u001b[0;34m:\u001b[0m\u001b[0;34m\u001b[0m\u001b[0m\n\u001b[0;32m--> 633\u001b[0;31m         \u001b[0;32mraise\u001b[0m \u001b[0mPipelineConfigEvaluationError\u001b[0m\u001b[0;34m(\u001b[0m\u001b[0mpipeline\u001b[0m\u001b[0;34m,\u001b[0m \u001b[0mresult\u001b[0m\u001b[0;34m.\u001b[0m\u001b[0merrors\u001b[0m\u001b[0;34m,\u001b[0m \u001b[0menvironment\u001b[0m\u001b[0;34m)\u001b[0m\u001b[0;34m\u001b[0m\u001b[0m\n\u001b[0m\u001b[1;32m    634\u001b[0m \u001b[0;34m\u001b[0m\u001b[0m\n\u001b[1;32m    635\u001b[0m     \u001b[0;32mreturn\u001b[0m \u001b[0mconstruct_environment_config\u001b[0m\u001b[0;34m(\u001b[0m\u001b[0mresult\u001b[0m\u001b[0;34m.\u001b[0m\u001b[0mvalue\u001b[0m\u001b[0;34m)\u001b[0m\u001b[0;34m\u001b[0m\u001b[0m\n",
      "\u001b[0;31mPipelineConfigEvaluationError\u001b[0m: Pipeline \"emphemeral notebook pipeline\" config errors:\n    Error 1: Missing required field \"solids\" at document config root."
     ]
    }
   ],
   "source": [
    "dm.define_info()"
   ]
  },
  {
   "cell_type": "code",
   "execution_count": 20,
   "metadata": {},
   "outputs": [],
   "source": [
    "config = {\"solids\": {\"add_two_numbers\": {}}, \"context\": context_config['context']}"
   ]
  },
  {
   "cell_type": "code",
   "execution_count": 19,
   "metadata": {},
   "outputs": [],
   "source": [
    "context_config = {\"context\": {\"default\": {\"config\": {\"default\": {\"logging\": {\"log_level\": \"DEBUG\"}}}, \"resources\": {}}}}"
   ]
  },
  {
   "cell_type": "code",
   "execution_count": 21,
   "metadata": {},
   "outputs": [
    {
     "ename": "PipelineConfigEvaluationError",
     "evalue": "Pipeline \"emphemeral notebook pipeline\" config errors:\n    Error 1: Undefined field \"default\" on type \"Dict.13\" at path root:context:default:config\n    Error 2: Missing required field \"inputs\" at path root:solids:add_two_numbers",
     "output_type": "error",
     "traceback": [
      "\u001b[0;31m---------------------------------------------------------------------------\u001b[0m",
      "\u001b[0;31mPipelineConfigEvaluationError\u001b[0m             Traceback (most recent call last)",
      "\u001b[0;32m<ipython-input-21-ae8fcd40fee5>\u001b[0m in \u001b[0;36m<module>\u001b[0;34m\u001b[0m\n\u001b[1;32m      1\u001b[0m \u001b[0;31m#parameters\u001b[0m\u001b[0;34m\u001b[0m\u001b[0;34m\u001b[0m\u001b[0m\n\u001b[1;32m      2\u001b[0m \u001b[0mparameters\u001b[0m \u001b[0;34m=\u001b[0m \u001b[0mdm\u001b[0m\u001b[0;34m.\u001b[0m\u001b[0mdefine_context\u001b[0m\u001b[0;34m(\u001b[0m\u001b[0minputs\u001b[0m\u001b[0;34m=\u001b[0m\u001b[0mdict\u001b[0m\u001b[0;34m(\u001b[0m\u001b[0ma\u001b[0m\u001b[0;34m=\u001b[0m\u001b[0;36m3\u001b[0m\u001b[0;34m,\u001b[0m \u001b[0mb\u001b[0m\u001b[0;34m=\u001b[0m\u001b[0;36m5\u001b[0m\u001b[0;34m)\u001b[0m\u001b[0;34m)\u001b[0m\u001b[0;34m\u001b[0m\u001b[0m\n\u001b[0;32m----> 3\u001b[0;31m \u001b[0minfo\u001b[0m \u001b[0;34m=\u001b[0m \u001b[0mdm\u001b[0m\u001b[0;34m.\u001b[0m\u001b[0mdefine_info\u001b[0m\u001b[0;34m(\u001b[0m\u001b[0mconfig\u001b[0m\u001b[0;34m)\u001b[0m\u001b[0;34m\u001b[0m\u001b[0m\n\u001b[0m",
      "\u001b[0;32m~/Documents/dagster/python_modules/dagstermill/dagstermill/__init__.py\u001b[0m in \u001b[0;36mdefine_info\u001b[0;34m(context_config)\u001b[0m\n\u001b[1;32m    168\u001b[0m     \u001b[0mpipeline_def\u001b[0m \u001b[0;34m=\u001b[0m \u001b[0mPipelineDefinition\u001b[0m\u001b[0;34m(\u001b[0m\u001b[0msolids\u001b[0m\u001b[0;34m=\u001b[0m\u001b[0;34m[\u001b[0m\u001b[0msolid_def\u001b[0m\u001b[0;34m]\u001b[0m\u001b[0;34m,\u001b[0m \u001b[0mname\u001b[0m\u001b[0;34m=\u001b[0m\u001b[0;34m\"emphemeral notebook pipeline\"\u001b[0m\u001b[0;34m)\u001b[0m\u001b[0;34m\u001b[0m\u001b[0m\n\u001b[1;32m    169\u001b[0m \u001b[0;34m\u001b[0m\u001b[0m\n\u001b[0;32m--> 170\u001b[0;31m     \u001b[0menvironment_config\u001b[0m \u001b[0;34m=\u001b[0m \u001b[0mcreate_typed_environment\u001b[0m\u001b[0;34m(\u001b[0m\u001b[0mpipeline_def\u001b[0m\u001b[0;34m,\u001b[0m \u001b[0mcontext_config\u001b[0m\u001b[0;34m)\u001b[0m\u001b[0;34m\u001b[0m\u001b[0m\n\u001b[0m\u001b[1;32m    171\u001b[0m     \u001b[0mcheck\u001b[0m\u001b[0;34m.\u001b[0m\u001b[0minst_param\u001b[0m\u001b[0;34m(\u001b[0m\u001b[0menvironment_config\u001b[0m\u001b[0;34m,\u001b[0m \u001b[0;34m'typed_environment'\u001b[0m\u001b[0;34m,\u001b[0m \u001b[0mEnvironmentConfig\u001b[0m\u001b[0;34m)\u001b[0m\u001b[0;34m\u001b[0m\u001b[0m\n\u001b[1;32m    172\u001b[0m     \u001b[0mrun_id\u001b[0m \u001b[0;34m=\u001b[0m \u001b[0;34m\"\"\u001b[0m\u001b[0;34m\u001b[0m\u001b[0m\n",
      "\u001b[0;32m~/Documents/dagster/python_modules/dagster/dagster/core/execution.py\u001b[0m in \u001b[0;36mcreate_typed_environment\u001b[0;34m(pipeline, environment)\u001b[0m\n\u001b[1;32m    633\u001b[0m \u001b[0;34m\u001b[0m\u001b[0m\n\u001b[1;32m    634\u001b[0m     \u001b[0;32mif\u001b[0m \u001b[0;32mnot\u001b[0m \u001b[0mresult\u001b[0m\u001b[0;34m.\u001b[0m\u001b[0msuccess\u001b[0m\u001b[0;34m:\u001b[0m\u001b[0;34m\u001b[0m\u001b[0m\n\u001b[0;32m--> 635\u001b[0;31m         \u001b[0;32mraise\u001b[0m \u001b[0mPipelineConfigEvaluationError\u001b[0m\u001b[0;34m(\u001b[0m\u001b[0mpipeline\u001b[0m\u001b[0;34m,\u001b[0m \u001b[0mresult\u001b[0m\u001b[0;34m.\u001b[0m\u001b[0merrors\u001b[0m\u001b[0;34m,\u001b[0m \u001b[0menvironment\u001b[0m\u001b[0;34m)\u001b[0m\u001b[0;34m\u001b[0m\u001b[0m\n\u001b[0m\u001b[1;32m    636\u001b[0m \u001b[0;34m\u001b[0m\u001b[0m\n\u001b[1;32m    637\u001b[0m     \u001b[0menvironment_config\u001b[0m \u001b[0;34m=\u001b[0m \u001b[0mconstruct_environment_config\u001b[0m\u001b[0;34m(\u001b[0m\u001b[0mresult\u001b[0m\u001b[0;34m.\u001b[0m\u001b[0mvalue\u001b[0m\u001b[0;34m)\u001b[0m\u001b[0;34m\u001b[0m\u001b[0m\n",
      "\u001b[0;31mPipelineConfigEvaluationError\u001b[0m: Pipeline \"emphemeral notebook pipeline\" config errors:\n    Error 1: Undefined field \"default\" on type \"Dict.13\" at path root:context:default:config\n    Error 2: Missing required field \"inputs\" at path root:solids:add_two_numbers"
     ]
    }
   ],
   "source": [
    "#parameters\n",
    "parameters = dm.define_context(inputs=dict(a=3, b=5))\n",
    "info = dm.define_info(config)"
   ]
  },
  {
   "cell_type": "code",
   "execution_count": 40,
   "metadata": {},
   "outputs": [
    {
     "name": "stderr",
     "output_type": "stream",
     "text": [
      "2019-01-14 11:40:03 - In notebook logger - DEBUG - orig_message=\"hi\" log_message_id=\"d4eebd97-c0e7-4e99-86b0-da1358d8bc62\" run_id=\"\"\n"
     ]
    }
   ],
   "source": [
    "info.context.debug(\"hi\")"
   ]
  },
  {
   "cell_type": "code",
   "execution_count": 41,
   "metadata": {},
   "outputs": [
    {
     "name": "stderr",
     "output_type": "stream",
     "text": [
      "2019-01-14 11:40:04 - In notebook logger - INFO - orig_message=\"hi\" log_message_id=\"66e99d10-9bba-4cc3-bcfb-1bea015a019e\" run_id=\"\"\n"
     ]
    }
   ],
   "source": [
    "info.context.info(\"hi\")"
   ]
  },
  {
   "cell_type": "code",
   "execution_count": null,
   "metadata": {},
   "outputs": [],
   "source": [
    "#injected-parameters\n",
    "#dm_parameters = \"serialized_inputs\"\n",
    "#info = \"serialized_info\"\n",
    "\n",
    "#injected-string\n",
    "#dm_parameters = dm.deserialize_parameters(dm_parameters)\n",
    "#info = dm.deserialize_info(info)"
   ]
  },
  {
   "cell_type": "code",
   "execution_count": null,
   "metadata": {},
   "outputs": [],
   "source": [
    "logging.basicConfig(filename='example.log',level=logging.DEBUG)\n",
    "logging.debug('This message should go to the log file')\n",
    "logging.info('So should this')\n",
    "logging.warning('And this, too')"
   ]
  },
  {
   "cell_type": "code",
   "execution_count": 46,
   "metadata": {},
   "outputs": [],
   "source": []
  },
  {
   "cell_type": "code",
   "execution_count": 47,
   "metadata": {},
   "outputs": [],
   "source": [
    "contextConfigObject = construct_context_config(context['context'])"
   ]
  },
  {
   "cell_type": "code",
   "execution_count": null,
   "metadata": {},
   "outputs": [],
   "source": [
    "environmentConfigObject = "
   ]
  },
  {
   "cell_type": "code",
   "execution_count": null,
   "metadata": {},
   "outputs": [],
   "source": [
    "a, b = dm_parameters.get(a, b)\n",
    "c = dm_parameters['c']"
   ]
  },
  {
   "cell_type": "code",
   "execution_count": null,
   "metadata": {},
   "outputs": [],
   "source": [
    "#info.context is of type RuntimeExecutionContext"
   ]
  },
  {
   "cell_type": "code",
   "execution_count": 21,
   "metadata": {},
   "outputs": [],
   "source": [
    "notebook_solid_def = dm.get_solid()"
   ]
  },
  {
   "cell_type": "code",
   "execution_count": 25,
   "metadata": {},
   "outputs": [
    {
     "data": {
      "text/plain": [
       "<dagster.core.definitions.solid.SolidDefinition at 0x1190981d0>"
      ]
     },
     "execution_count": 25,
     "metadata": {},
     "output_type": "execute_result"
    }
   ],
   "source": [
    "notebook_solid_def"
   ]
  },
  {
   "cell_type": "code",
   "execution_count": 27,
   "metadata": {},
   "outputs": [],
   "source": [
    "notebook_solid = dagster.core.definitions.dependency.Solid(\n",
    "    name = \"notebook_solid\",\n",
    "    definition = notebook_solid_def\n",
    ")"
   ]
  },
  {
   "cell_type": "code",
   "execution_count": null,
   "metadata": {},
   "outputs": [],
   "source": [
    "#For now, in a notebook, can't access \n",
    "#solid, pipeline_def or config fields"
   ]
  },
  {
   "cell_type": "code",
   "execution_count": 39,
   "metadata": {},
   "outputs": [],
   "source": [
    "#If run in a pipeline, need access to object info\n",
    "#info (of type TransformExecutionInfo)\n",
    "#so that we can access \n",
    "#info.context (RuntimeExecutionContext)\n",
    "#--has loggers, resources, context_stack\n",
    "\n",
    "#info.config\n",
    "#info.solid\n",
    "#info.pipeline_def"
   ]
  },
  {
   "cell_type": "code",
   "execution_count": null,
   "metadata": {},
   "outputs": [],
   "source": [
    "#If not run as part of a pipeline\n",
    "#Instantiate info object with dummy solid, dummy pipeline_def\n",
    "#ignoring config for now\n",
    "#and info.context from notebook specific context (inline) (or read from the repository file, but this is later)\n",
    "#info.config\n",
    "#info.solid\n",
    "#info.pipeline_def"
   ]
  },
  {
   "cell_type": "code",
   "execution_count": 38,
   "metadata": {},
   "outputs": [],
   "source": [
    "empty_pipeline_def = dagster.core.definitions.pipeline.PipelineDefinition(solids = [])"
   ]
  },
  {
   "cell_type": "code",
   "execution_count": 11,
   "metadata": {},
   "outputs": [],
   "source": []
  },
  {
   "cell_type": "code",
   "execution_count": 9,
   "metadata": {},
   "outputs": [],
   "source": [
    "context = {\"context\": {\"context_name\": {\"config\": {}, \"resources\": {}}}}"
   ]
  },
  {
   "cell_type": "code",
   "execution_count": 12,
   "metadata": {},
   "outputs": [
    {
     "name": "stdout",
     "output_type": "stream",
     "text": [
      "context_name\n",
      "{'config': {}, 'resources': {}}\n"
     ]
    },
    {
     "data": {
      "text/plain": [
       "ContextConfig(name='context_name', config={}, resources={})"
      ]
     },
     "execution_count": 12,
     "metadata": {},
     "output_type": "execute_result"
    }
   ],
   "source": [
    "construct_context_config(context['context'])"
   ]
  },
  {
   "cell_type": "code",
   "execution_count": null,
   "metadata": {},
   "outputs": [],
   "source": []
  },
  {
   "cell_type": "code",
   "execution_count": 13,
   "metadata": {},
   "outputs": [],
   "source": [
    "runtimeExecutionContext =\\\n",
    "dagster.core.execution_context.RuntimeExecutionContext(run_id)"
   ]
  },
  {
   "cell_type": "code",
   "execution_count": null,
   "metadata": {},
   "outputs": [],
   "source": [
    "# def yield_context(pipeline, environment, reentrant_info=None):\n",
    "#     check.inst_param(pipeline, 'pipeline', PipelineDefinition)\n",
    "#     check.inst_param(environment, 'environment', EnvironmentConfig)\n",
    "#     check.opt_inst_param(reentrant_info, 'reentrant_info', ReentrantInfo)\n",
    "\n",
    "#     context_definition = pipeline.context_definitions[environment.context.name]\n",
    "\n",
    "#     run_id = get_run_id(reentrant_info)\n",
    "\n",
    "#     ec_or_gen = context_definition.context_fn(\n",
    "#         ContextCreationExecutionInfo(\n",
    "#             config=environment.context.config, pipeline_def=pipeline, run_id=run_id\n",
    "#         )\n",
    "#     )\n",
    "\n",
    "#     with with_maybe_gen(ec_or_gen) as execution_context:\n",
    "#         check.inst(execution_context, ExecutionContext)\n",
    "\n",
    "#         with _create_resources(\n",
    "#             pipeline, context_definition, environment, execution_context, run_id\n",
    "#         ) as resources:\n",
    "#             loggers = _create_loggers(reentrant_info, execution_context)\n",
    "\n",
    "#             yield RuntimeExecutionContext(\n",
    "#                 run_id=get_run_id(reentrant_info),\n",
    "#                 loggers=loggers,\n",
    "#                 resources=resources,\n",
    "#                 context_stack=get_context_stack(execution_context, reentrant_info),\n",
    "#             )"
   ]
  },
  {
   "cell_type": "code",
   "execution_count": 30,
   "metadata": {},
   "outputs": [],
   "source": [
    "info = dagster.core.definitions.infos.TransformExecutionInfo(\n",
    "    context = runtimeExecutionContext,\n",
    "    config = None,\n",
    "    solid = notebook_solid,\n",
    "    pipeline_def = empty_pipeline_def\n",
    "    a\n",
    ")"
   ]
  },
  {
   "cell_type": "code",
   "execution_count": 36,
   "metadata": {},
   "outputs": [],
   "source": [
    "info.context.resources"
   ]
  },
  {
   "cell_type": "code",
   "execution_count": null,
   "metadata": {},
   "outputs": [],
   "source": []
  }
 ],
 "metadata": {
  "kernelspec": {
   "display_name": "dagster",
   "language": "python",
   "name": "dagster"
  },
  "language_info": {
   "codemirror_mode": {
    "name": "ipython",
    "version": 3
   },
   "file_extension": ".py",
   "mimetype": "text/x-python",
   "name": "python",
   "nbconvert_exporter": "python",
   "pygments_lexer": "ipython3",
   "version": "3.6.5"
  }
 },
 "nbformat": 4,
 "nbformat_minor": 2
}
