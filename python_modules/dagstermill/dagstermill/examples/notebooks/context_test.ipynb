{
 "cells": [
  {
   "cell_type": "code",
   "execution_count": 1,
   "metadata": {},
   "outputs": [],
   "source": [
    "%load_ext autoreload\n",
    "%autoreload 2\n",
    "import dagster\n",
    "import dagstermill as dm\n",
    "import logging\n",
    "from dagstermill.examples.repository import define_example_repository\n",
    "dm.declare_as_solid(define_example_repository(), 'add_two_numbers')"
   ]
  },
  {
   "cell_type": "code",
   "execution_count": 20,
   "metadata": {},
   "outputs": [],
   "source": [
    "config = {\"solids\": {\"add_two_numbers\": {}}, \"context\": context_config['context']}"
   ]
  },
  {
   "cell_type": "code",
   "execution_count": 19,
   "metadata": {},
   "outputs": [],
   "source": [
    "context_config = {\"context\": {\"default\": {\"config\": {\"default\": {\"logging\": {\"log_level\": \"DEBUG\"}}}, \"resources\": {}}}}"
   ]
  },
  {
   "cell_type": "code",
   "execution_count": 21,
   "metadata": {},
   "outputs": [
    {
     "ename": "PipelineConfigEvaluationError",
     "evalue": "Pipeline \"emphemeral notebook pipeline\" config errors:\n    Error 1: Undefined field \"default\" on type \"Dict.13\" at path root:context:default:config\n    Error 2: Missing required field \"inputs\" at path root:solids:add_two_numbers",
     "output_type": "error",
     "traceback": [
      "\u001b[0;31m---------------------------------------------------------------------------\u001b[0m",
      "\u001b[0;31mPipelineConfigEvaluationError\u001b[0m             Traceback (most recent call last)",
      "\u001b[0;32m<ipython-input-21-ae8fcd40fee5>\u001b[0m in \u001b[0;36m<module>\u001b[0;34m\u001b[0m\n\u001b[1;32m      1\u001b[0m \u001b[0;31m#parameters\u001b[0m\u001b[0;34m\u001b[0m\u001b[0;34m\u001b[0m\u001b[0m\n\u001b[1;32m      2\u001b[0m \u001b[0mparameters\u001b[0m \u001b[0;34m=\u001b[0m \u001b[0mdm\u001b[0m\u001b[0;34m.\u001b[0m\u001b[0mdefine_context\u001b[0m\u001b[0;34m(\u001b[0m\u001b[0minputs\u001b[0m\u001b[0;34m=\u001b[0m\u001b[0mdict\u001b[0m\u001b[0;34m(\u001b[0m\u001b[0ma\u001b[0m\u001b[0;34m=\u001b[0m\u001b[0;36m3\u001b[0m\u001b[0;34m,\u001b[0m \u001b[0mb\u001b[0m\u001b[0;34m=\u001b[0m\u001b[0;36m5\u001b[0m\u001b[0;34m)\u001b[0m\u001b[0;34m)\u001b[0m\u001b[0;34m\u001b[0m\u001b[0m\n\u001b[0;32m----> 3\u001b[0;31m \u001b[0minfo\u001b[0m \u001b[0;34m=\u001b[0m \u001b[0mdm\u001b[0m\u001b[0;34m.\u001b[0m\u001b[0mdefine_info\u001b[0m\u001b[0;34m(\u001b[0m\u001b[0mconfig\u001b[0m\u001b[0;34m)\u001b[0m\u001b[0;34m\u001b[0m\u001b[0m\n\u001b[0m",
      "\u001b[0;32m~/Documents/dagster/python_modules/dagstermill/dagstermill/__init__.py\u001b[0m in \u001b[0;36mdefine_info\u001b[0;34m(context_config)\u001b[0m\n\u001b[1;32m    168\u001b[0m     \u001b[0mpipeline_def\u001b[0m \u001b[0;34m=\u001b[0m \u001b[0mPipelineDefinition\u001b[0m\u001b[0;34m(\u001b[0m\u001b[0msolids\u001b[0m\u001b[0;34m=\u001b[0m\u001b[0;34m[\u001b[0m\u001b[0msolid_def\u001b[0m\u001b[0;34m]\u001b[0m\u001b[0;34m,\u001b[0m \u001b[0mname\u001b[0m\u001b[0;34m=\u001b[0m\u001b[0;34m\"emphemeral notebook pipeline\"\u001b[0m\u001b[0;34m)\u001b[0m\u001b[0;34m\u001b[0m\u001b[0m\n\u001b[1;32m    169\u001b[0m \u001b[0;34m\u001b[0m\u001b[0m\n\u001b[0;32m--> 170\u001b[0;31m     \u001b[0menvironment_config\u001b[0m \u001b[0;34m=\u001b[0m \u001b[0mcreate_typed_environment\u001b[0m\u001b[0;34m(\u001b[0m\u001b[0mpipeline_def\u001b[0m\u001b[0;34m,\u001b[0m \u001b[0mcontext_config\u001b[0m\u001b[0;34m)\u001b[0m\u001b[0;34m\u001b[0m\u001b[0m\n\u001b[0m\u001b[1;32m    171\u001b[0m     \u001b[0mcheck\u001b[0m\u001b[0;34m.\u001b[0m\u001b[0minst_param\u001b[0m\u001b[0;34m(\u001b[0m\u001b[0menvironment_config\u001b[0m\u001b[0;34m,\u001b[0m \u001b[0;34m'typed_environment'\u001b[0m\u001b[0;34m,\u001b[0m \u001b[0mEnvironmentConfig\u001b[0m\u001b[0;34m)\u001b[0m\u001b[0;34m\u001b[0m\u001b[0m\n\u001b[1;32m    172\u001b[0m     \u001b[0mrun_id\u001b[0m \u001b[0;34m=\u001b[0m \u001b[0;34m\"\"\u001b[0m\u001b[0;34m\u001b[0m\u001b[0m\n",
      "\u001b[0;32m~/Documents/dagster/python_modules/dagster/dagster/core/execution.py\u001b[0m in \u001b[0;36mcreate_typed_environment\u001b[0;34m(pipeline, environment)\u001b[0m\n\u001b[1;32m    633\u001b[0m \u001b[0;34m\u001b[0m\u001b[0m\n\u001b[1;32m    634\u001b[0m     \u001b[0;32mif\u001b[0m \u001b[0;32mnot\u001b[0m \u001b[0mresult\u001b[0m\u001b[0;34m.\u001b[0m\u001b[0msuccess\u001b[0m\u001b[0;34m:\u001b[0m\u001b[0;34m\u001b[0m\u001b[0m\n\u001b[0;32m--> 635\u001b[0;31m         \u001b[0;32mraise\u001b[0m \u001b[0mPipelineConfigEvaluationError\u001b[0m\u001b[0;34m(\u001b[0m\u001b[0mpipeline\u001b[0m\u001b[0;34m,\u001b[0m \u001b[0mresult\u001b[0m\u001b[0;34m.\u001b[0m\u001b[0merrors\u001b[0m\u001b[0;34m,\u001b[0m \u001b[0menvironment\u001b[0m\u001b[0;34m)\u001b[0m\u001b[0;34m\u001b[0m\u001b[0m\n\u001b[0m\u001b[1;32m    636\u001b[0m \u001b[0;34m\u001b[0m\u001b[0m\n\u001b[1;32m    637\u001b[0m     \u001b[0menvironment_config\u001b[0m \u001b[0;34m=\u001b[0m \u001b[0mconstruct_environment_config\u001b[0m\u001b[0;34m(\u001b[0m\u001b[0mresult\u001b[0m\u001b[0;34m.\u001b[0m\u001b[0mvalue\u001b[0m\u001b[0;34m)\u001b[0m\u001b[0;34m\u001b[0m\u001b[0m\n",
      "\u001b[0;31mPipelineConfigEvaluationError\u001b[0m: Pipeline \"emphemeral notebook pipeline\" config errors:\n    Error 1: Undefined field \"default\" on type \"Dict.13\" at path root:context:default:config\n    Error 2: Missing required field \"inputs\" at path root:solids:add_two_numbers"
     ]
    }
   ],
   "source": [
    "#parameters\n",
    "parameters = dm.define_context(inputs=dict(a=3, b=5))\n",
    "info = dm.define_info(config)"
   ]
  },
  {
   "cell_type": "code",
   "execution_count": 40,
   "metadata": {},
   "outputs": [
    {
     "name": "stderr",
     "output_type": "stream",
     "text": [
      "2019-01-14 11:40:03 - In notebook logger - DEBUG - orig_message=\"hi\" log_message_id=\"d4eebd97-c0e7-4e99-86b0-da1358d8bc62\" run_id=\"\"\n"
     ]
    }
   ],
   "source": [
    "info.context.debug(\"hi\")"
   ]
  },
  {
   "cell_type": "code",
   "execution_count": 41,
   "metadata": {},
   "outputs": [
    {
     "name": "stderr",
     "output_type": "stream",
     "text": [
      "2019-01-14 11:40:04 - In notebook logger - INFO - orig_message=\"hi\" log_message_id=\"66e99d10-9bba-4cc3-bcfb-1bea015a019e\" run_id=\"\"\n"
     ]
    }
   ],
   "source": [
    "info.context.info(\"hi\")"
   ]
  },
  {
   "cell_type": "code",
   "execution_count": null,
   "metadata": {},
   "outputs": [],
   "source": [
    "#injected-parameters\n",
    "#dm_parameters = \"serialized_inputs\"\n",
    "#info = \"serialized_info\"\n",
    "\n",
    "#injected-string\n",
    "#dm_parameters = dm.deserialize_parameters(dm_parameters)\n",
    "#info = dm.deserialize_info(info)"
   ]
  },
  {
   "cell_type": "code",
   "execution_count": null,
   "metadata": {},
   "outputs": [],
   "source": [
    "logging.basicConfig(filename='example.log',level=logging.DEBUG)\n",
    "logging.debug('This message should go to the log file')\n",
    "logging.info('So should this')\n",
    "logging.warning('And this, too')"
   ]
  },
  {
   "cell_type": "code",
   "execution_count": 46,
   "metadata": {},
   "outputs": [],
   "source": []
  },
  {
   "cell_type": "code",
   "execution_count": 47,
   "metadata": {},
   "outputs": [],
   "source": [
    "contextConfigObject = construct_context_config(context['context'])"
   ]
  },
  {
   "cell_type": "code",
   "execution_count": null,
   "metadata": {},
   "outputs": [],
   "source": [
    "environmentConfigObject = "
   ]
  },
  {
   "cell_type": "code",
   "execution_count": null,
   "metadata": {},
   "outputs": [],
   "source": [
    "a, b = dm_parameters.get(a, b)\n",
    "c = dm_parameters['c']"
   ]
  },
  {
   "cell_type": "code",
   "execution_count": null,
   "metadata": {},
   "outputs": [],
   "source": [
    "#info.context is of type RuntimeExecutionContext"
   ]
  },
  {
   "cell_type": "code",
   "execution_count": 21,
   "metadata": {},
   "outputs": [],
   "source": [
    "notebook_solid_def = dm.get_solid()"
   ]
  },
  {
   "cell_type": "code",
   "execution_count": 25,
   "metadata": {},
   "outputs": [
    {
     "data": {
      "text/plain": [
       "<dagster.core.definitions.solid.SolidDefinition at 0x1190981d0>"
      ]
     },
     "execution_count": 25,
     "metadata": {},
     "output_type": "execute_result"
    }
   ],
   "source": [
    "notebook_solid_def"
   ]
  },
  {
   "cell_type": "code",
   "execution_count": 27,
   "metadata": {},
   "outputs": [],
   "source": [
    "notebook_solid = dagster.core.definitions.dependency.Solid(\n",
    "    name = \"notebook_solid\",\n",
    "    definition = notebook_solid_def\n",
    ")"
   ]
  },
  {
   "cell_type": "code",
   "execution_count": null,
   "metadata": {},
   "outputs": [],
   "source": [
    "#For now, in a notebook, can't access \n",
    "#solid, pipeline_def or config fields"
   ]
  },
  {
   "cell_type": "code",
   "execution_count": 39,
   "metadata": {},
   "outputs": [],
   "source": [
    "#If run in a pipeline, need access to object info\n",
    "#info (of type TransformExecutionInfo)\n",
    "#so that we can access \n",
    "#info.context (RuntimeExecutionContext)\n",
    "#--has loggers, resources, context_stack\n",
    "\n",
    "#info.config\n",
    "#info.solid\n",
    "#info.pipeline_def"
   ]
  },
  {
   "cell_type": "code",
   "execution_count": null,
   "metadata": {},
   "outputs": [],
   "source": [
    "#If not run as part of a pipeline\n",
    "#Instantiate info object with dummy solid, dummy pipeline_def\n",
    "#ignoring config for now\n",
    "#and info.context from notebook specific context (inline) (or read from the repository file, but this is later)\n",
    "#info.config\n",
    "#info.solid\n",
    "#info.pipeline_def"
   ]
  },
  {
   "cell_type": "code",
   "execution_count": 38,
   "metadata": {},
   "outputs": [],
   "source": [
    "empty_pipeline_def = dagster.core.definitions.pipeline.PipelineDefinition(solids = [])"
   ]
  },
  {
   "cell_type": "code",
   "execution_count": 11,
   "metadata": {},
   "outputs": [],
   "source": []
  },
  {
   "cell_type": "code",
   "execution_count": 9,
   "metadata": {},
   "outputs": [],
   "source": [
    "context = {\"context\": {\"context_name\": {\"config\": {}, \"resources\": {}}}}"
   ]
  },
  {
   "cell_type": "code",
   "execution_count": 12,
   "metadata": {},
   "outputs": [
    {
     "name": "stdout",
     "output_type": "stream",
     "text": [
      "context_name\n",
      "{'config': {}, 'resources': {}}\n"
     ]
    },
    {
     "data": {
      "text/plain": [
       "ContextConfig(name='context_name', config={}, resources={})"
      ]
     },
     "execution_count": 12,
     "metadata": {},
     "output_type": "execute_result"
    }
   ],
   "source": [
    "construct_context_config(context['context'])"
   ]
  },
  {
   "cell_type": "code",
   "execution_count": null,
   "metadata": {},
   "outputs": [],
   "source": []
  },
  {
   "cell_type": "code",
   "execution_count": 13,
   "metadata": {},
   "outputs": [],
   "source": [
    "runtimeExecutionContext =\\\n",
    "dagster.core.execution_context.RuntimeExecutionContext(run_id)"
   ]
  },
  {
   "cell_type": "code",
   "execution_count": null,
   "metadata": {},
   "outputs": [],
   "source": [
    "# def yield_context(pipeline, environment, reentrant_info=None):\n",
    "#     check.inst_param(pipeline, 'pipeline', PipelineDefinition)\n",
    "#     check.inst_param(environment, 'environment', EnvironmentConfig)\n",
    "#     check.opt_inst_param(reentrant_info, 'reentrant_info', ReentrantInfo)\n",
    "\n",
    "#     context_definition = pipeline.context_definitions[environment.context.name]\n",
    "\n",
    "#     run_id = get_run_id(reentrant_info)\n",
    "\n",
    "#     ec_or_gen = context_definition.context_fn(\n",
    "#         ContextCreationExecutionInfo(\n",
    "#             config=environment.context.config, pipeline_def=pipeline, run_id=run_id\n",
    "#         )\n",
    "#     )\n",
    "\n",
    "#     with with_maybe_gen(ec_or_gen) as execution_context:\n",
    "#         check.inst(execution_context, ExecutionContext)\n",
    "\n",
    "#         with _create_resources(\n",
    "#             pipeline, context_definition, environment, execution_context, run_id\n",
    "#         ) as resources:\n",
    "#             loggers = _create_loggers(reentrant_info, execution_context)\n",
    "\n",
    "#             yield RuntimeExecutionContext(\n",
    "#                 run_id=get_run_id(reentrant_info),\n",
    "#                 loggers=loggers,\n",
    "#                 resources=resources,\n",
    "#                 context_stack=get_context_stack(execution_context, reentrant_info),\n",
    "#             )"
   ]
  },
  {
   "cell_type": "code",
   "execution_count": 30,
   "metadata": {},
   "outputs": [],
   "source": [
    "info = dagster.core.definitions.infos.TransformExecutionInfo(\n",
    "    context = runtimeExecutionContext,\n",
    "    config = None,\n",
    "    solid = notebook_solid,\n",
    "    pipeline_def = empty_pipeline_def\n",
    "    a\n",
    ")"
   ]
  },
  {
   "cell_type": "code",
   "execution_count": 36,
   "metadata": {},
   "outputs": [],
   "source": [
    "info.context.resources"
   ]
  },
  {
   "cell_type": "code",
   "execution_count": null,
   "metadata": {},
   "outputs": [],
   "source": []
  }
 ],
 "metadata": {
  "kernelspec": {
   "display_name": "dagster",
   "language": "python",
   "name": "dagster"
  },
  "language_info": {
   "codemirror_mode": {
    "name": "ipython",
    "version": 3
   },
   "file_extension": ".py",
   "mimetype": "text/x-python",
   "name": "python",
   "nbconvert_exporter": "python",
   "pygments_lexer": "ipython3",
   "version": "3.6.5"
  }
 },
 "nbformat": 4,
 "nbformat_minor": 2
}
