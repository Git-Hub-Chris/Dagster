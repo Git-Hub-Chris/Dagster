{
 "cells": [
  {
   "cell_type": "code",
   "execution_count": 101,
   "metadata": {},
   "outputs": [
    {
     "name": "stdout",
     "output_type": "stream",
     "text": [
      "The autoreload extension is already loaded. To reload it, use:\n",
      "  %reload_ext autoreload\n"
     ]
    }
   ],
   "source": [
    "%load_ext autoreload\n",
    "%autoreload 2\n",
    "import dagster\n",
    "import dagstermill as dm\n",
    "import logging\n",
    "from dagstermill.examples.repository import define_example_repository\n",
    "dm.declare_as_solid(define_example_repository(), 'add_two_numbers')"
   ]
  },
  {
   "cell_type": "code",
   "execution_count": 102,
   "metadata": {},
   "outputs": [],
   "source": [
    "debug_config = {\n",
    "\t\"context\": {\n",
    "\t\t\"default\": {\n",
    "\t\t\t\"config\": {\n",
    "\t\t\t\t\"log_level\": \"DEBUG\"\n",
    "\t\t\t}\n",
    "\t\t}\n",
    "\t}\n",
    "}"
   ]
  },
  {
   "cell_type": "code",
   "execution_count": 103,
   "metadata": {},
   "outputs": [],
   "source": [
    "default_config = {}"
   ]
  },
  {
   "cell_type": "code",
   "execution_count": 104,
   "metadata": {},
   "outputs": [],
   "source": [
    "#parameters\n",
    "papermill = False\n",
    "dm_context = dm.define_context(inputs=dict(a=3, b=5), config=default_config)"
   ]
  },
  {
   "cell_type": "code",
   "execution_count": 105,
   "metadata": {},
   "outputs": [],
   "source": [
    "a, b = dm.get_inputs(dm_context, 'a', 'b')\n",
    "info = dm.get_info(dm_context)"
   ]
  },
  {
   "cell_type": "code",
   "execution_count": 106,
   "metadata": {},
   "outputs": [],
   "source": [
    "info.context.debug(\"hi\")"
   ]
  },
  {
   "cell_type": "code",
   "execution_count": 107,
   "metadata": {},
   "outputs": [
    {
     "name": "stderr",
     "output_type": "stream",
     "text": [
      "2019-01-14 17:00:25 - In notebook logger - INFO - orig_message=\"hi\" log_message_id=\"0b8aacf1-d712-45bd-8e24-c771828df016\" run_id=\"\"\n"
     ]
    }
   ],
   "source": [
    "info.context.info(\"hi\")"
   ]
  },
  {
   "cell_type": "code",
   "execution_count": 108,
   "metadata": {},
   "outputs": [
    {
     "name": "stderr",
     "output_type": "stream",
     "text": [
      "2019-01-14 17:00:25 - In notebook logger - ERROR - orig_message=\"error!\" log_message_id=\"a806b933-a987-45c9-bc78-af8a45011e95\" run_id=\"\"\n"
     ]
    }
   ],
   "source": [
    "info.context.error(\"error!\")"
   ]
  }
 ],
 "metadata": {
  "kernelspec": {
   "display_name": "dagster",
   "language": "python",
   "name": "dagster"
  },
  "language_info": {
   "codemirror_mode": {
    "name": "ipython",
    "version": 3
   },
   "file_extension": ".py",
   "mimetype": "text/x-python",
   "name": "python",
   "nbconvert_exporter": "python",
   "pygments_lexer": "ipython3",
   "version": "3.6.5"
  }
 },
 "nbformat": 4,
 "nbformat_minor": 2
}
