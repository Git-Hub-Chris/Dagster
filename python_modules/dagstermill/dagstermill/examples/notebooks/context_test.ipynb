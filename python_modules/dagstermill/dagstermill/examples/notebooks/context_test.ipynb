{
 "cells": [
  {
   "cell_type": "code",
   "execution_count": 1,
   "metadata": {},
   "outputs": [],
   "source": [
    "%load_ext autoreload\n",
    "%autoreload 2\n",
    "import dagster\n",
    "import dagstermill as dm\n",
    "import logging\n",
    "from dagstermill.examples.repository import define_example_repository\n",
    "dm.declare_as_solid(define_example_repository(), 'add_two_numbers')"
   ]
  },
  {
   "cell_type": "code",
   "execution_count": 2,
   "metadata": {},
   "outputs": [],
   "source": [
    "debug_config = {\n",
    "\t\"context\": {\n",
    "\t\t\"default\": {\n",
    "\t\t\t\"config\": {\n",
    "\t\t\t\t\"log_level\": \"DEBUG\"\n",
    "\t\t\t}\n",
    "\t\t}\n",
    "\t}\n",
    "}"
   ]
  },
  {
   "cell_type": "code",
   "execution_count": 3,
   "metadata": {},
   "outputs": [],
   "source": [
    "default_config = {}"
   ]
  },
  {
   "cell_type": "code",
   "execution_count": 4,
   "metadata": {},
   "outputs": [],
   "source": [
    "#parameters\n",
    "dm_context = dm.define_context(inputs=dict(a=3, b=5), config=default_config)"
   ]
  },
  {
   "cell_type": "code",
   "execution_count": 5,
   "metadata": {},
   "outputs": [],
   "source": [
    "a, b = dm.get_inputs(dm_context, 'a', 'b')\n",
    "#Do not change below if you want access to info!\n",
    "info = dm.get_info(dm_context)"
   ]
  },
  {
   "cell_type": "code",
   "execution_count": 6,
   "metadata": {},
   "outputs": [],
   "source": [
    "info.context.debug(\"hi\")"
   ]
  },
  {
   "cell_type": "code",
   "execution_count": 7,
   "metadata": {},
   "outputs": [
    {
     "name": "stderr",
     "output_type": "stream",
     "text": [
      "2019-01-15 16:23:08 - In notebook logger - INFO - orig_message=\"hi\" log_message_id=\"ee893467-f431-4074-bf02-d2368ae15c63\" run_id=\"\"\n"
     ]
    }
   ],
   "source": [
    "info.context.info(\"hi\")"
   ]
  },
  {
   "cell_type": "code",
   "execution_count": 8,
   "metadata": {},
   "outputs": [
    {
     "name": "stderr",
     "output_type": "stream",
     "text": [
      "2019-01-15 16:23:08 - In notebook logger - ERROR - orig_message=\"error!\" log_message_id=\"22d132d6-c217-4536-9643-084a7bf4772f\" run_id=\"\"\n"
     ]
    }
   ],
   "source": [
    "info.context.error(\"error!\")"
   ]
  }
 ],
 "metadata": {
  "kernelspec": {
   "display_name": "dagster",
   "language": "python",
   "name": "dagster"
  },
  "language_info": {
   "codemirror_mode": {
    "name": "ipython",
    "version": 3
   },
   "file_extension": ".py",
   "mimetype": "text/x-python",
   "name": "python",
   "nbconvert_exporter": "python",
   "pygments_lexer": "ipython3",
   "version": "3.6.5"
  }
 },
 "nbformat": 4,
 "nbformat_minor": 2
}
